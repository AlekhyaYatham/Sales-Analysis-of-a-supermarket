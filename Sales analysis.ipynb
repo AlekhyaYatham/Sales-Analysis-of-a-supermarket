{
 "cells": [
  {
   "cell_type": "markdown",
   "id": "a20fb918",
   "metadata": {},
   "source": [
    "### Importing required libraries"
   ]
  },
  {
   "cell_type": "code",
   "execution_count": 1,
   "id": "d0a8f1f1",
   "metadata": {},
   "outputs": [],
   "source": [
    "import numpy as np\n",
    "\n",
    "import pandas as pd\n",
    "\n",
    "import matplotlib.pyplot as plt\n",
    "\n",
    "import seaborn as sns\n"
   ]
  },
  {
   "cell_type": "markdown",
   "id": "6e5be303",
   "metadata": {},
   "source": [
    "### Importing given dataset"
   ]
  },
  {
   "cell_type": "code",
   "execution_count": 2,
   "id": "365ea5d2",
   "metadata": {},
   "outputs": [],
   "source": [
    "#here we are impoting dataset and storing it to dataframe df\n",
    "\n",
    "df = pd.read_excel(\"supermarket_sales (1).xlsx\")\n"
   ]
  },
  {
   "cell_type": "markdown",
   "id": "3b107852",
   "metadata": {},
   "source": [
    "### EDA "
   ]
  },
  {
   "cell_type": "code",
   "execution_count": 3,
   "id": "2792555f",
   "metadata": {},
   "outputs": [
    {
     "data": {
      "text/html": [
       "<div>\n",
       "<style scoped>\n",
       "    .dataframe tbody tr th:only-of-type {\n",
       "        vertical-align: middle;\n",
       "    }\n",
       "\n",
       "    .dataframe tbody tr th {\n",
       "        vertical-align: top;\n",
       "    }\n",
       "\n",
       "    .dataframe thead th {\n",
       "        text-align: right;\n",
       "    }\n",
       "</style>\n",
       "<table border=\"1\" class=\"dataframe\">\n",
       "  <thead>\n",
       "    <tr style=\"text-align: right;\">\n",
       "      <th></th>\n",
       "      <th>Invoice ID</th>\n",
       "      <th>Branch</th>\n",
       "      <th>city code</th>\n",
       "      <th>Customer type</th>\n",
       "      <th>Gender</th>\n",
       "      <th>Product code</th>\n",
       "      <th>Unit price</th>\n",
       "      <th>Quantity</th>\n",
       "      <th>Tax 5%</th>\n",
       "      <th>Total</th>\n",
       "      <th>Date</th>\n",
       "      <th>Time</th>\n",
       "      <th>Payment</th>\n",
       "      <th>cogs</th>\n",
       "      <th>gross margin percentage</th>\n",
       "      <th>gross income</th>\n",
       "      <th>Rating</th>\n",
       "    </tr>\n",
       "  </thead>\n",
       "  <tbody>\n",
       "    <tr>\n",
       "      <th>0</th>\n",
       "      <td>750-67-8428</td>\n",
       "      <td>A</td>\n",
       "      <td>CT1</td>\n",
       "      <td>Member</td>\n",
       "      <td>Female</td>\n",
       "      <td>PD1</td>\n",
       "      <td>74.69</td>\n",
       "      <td>7</td>\n",
       "      <td>26.1415</td>\n",
       "      <td>548.9715</td>\n",
       "      <td>2019-01-05</td>\n",
       "      <td>13:08:00</td>\n",
       "      <td>Ewallet</td>\n",
       "      <td>522.83</td>\n",
       "      <td>4.761905</td>\n",
       "      <td>26.1415</td>\n",
       "      <td>9.1</td>\n",
       "    </tr>\n",
       "    <tr>\n",
       "      <th>1</th>\n",
       "      <td>226-31-3081</td>\n",
       "      <td>C</td>\n",
       "      <td>CT3</td>\n",
       "      <td>Normal</td>\n",
       "      <td>Female</td>\n",
       "      <td>PD2</td>\n",
       "      <td>15.28</td>\n",
       "      <td>5</td>\n",
       "      <td>3.8200</td>\n",
       "      <td>80.2200</td>\n",
       "      <td>2019-03-08</td>\n",
       "      <td>10:29:00</td>\n",
       "      <td>Cash</td>\n",
       "      <td>76.40</td>\n",
       "      <td>4.761905</td>\n",
       "      <td>3.8200</td>\n",
       "      <td>9.6</td>\n",
       "    </tr>\n",
       "    <tr>\n",
       "      <th>2</th>\n",
       "      <td>631-41-3108</td>\n",
       "      <td>A</td>\n",
       "      <td>CT1</td>\n",
       "      <td>Normal</td>\n",
       "      <td>Male</td>\n",
       "      <td>PD3</td>\n",
       "      <td>46.33</td>\n",
       "      <td>7</td>\n",
       "      <td>16.2155</td>\n",
       "      <td>340.5255</td>\n",
       "      <td>2019-03-03</td>\n",
       "      <td>13:23:00</td>\n",
       "      <td>Credit card</td>\n",
       "      <td>324.31</td>\n",
       "      <td>4.761905</td>\n",
       "      <td>16.2155</td>\n",
       "      <td>7.4</td>\n",
       "    </tr>\n",
       "    <tr>\n",
       "      <th>3</th>\n",
       "      <td>123-19-1176</td>\n",
       "      <td>A</td>\n",
       "      <td>CT1</td>\n",
       "      <td>Member</td>\n",
       "      <td>Male</td>\n",
       "      <td>PD1</td>\n",
       "      <td>58.22</td>\n",
       "      <td>8</td>\n",
       "      <td>23.2880</td>\n",
       "      <td>489.0480</td>\n",
       "      <td>2019-01-27</td>\n",
       "      <td>20:33:00</td>\n",
       "      <td>Ewallet</td>\n",
       "      <td>465.76</td>\n",
       "      <td>4.761905</td>\n",
       "      <td>23.2880</td>\n",
       "      <td>8.4</td>\n",
       "    </tr>\n",
       "    <tr>\n",
       "      <th>4</th>\n",
       "      <td>373-73-7910</td>\n",
       "      <td>A</td>\n",
       "      <td>CT1</td>\n",
       "      <td>Normal</td>\n",
       "      <td>Male</td>\n",
       "      <td>PD4</td>\n",
       "      <td>86.31</td>\n",
       "      <td>7</td>\n",
       "      <td>30.2085</td>\n",
       "      <td>634.3785</td>\n",
       "      <td>2019-02-08</td>\n",
       "      <td>10:37:00</td>\n",
       "      <td>Ewallet</td>\n",
       "      <td>604.17</td>\n",
       "      <td>4.761905</td>\n",
       "      <td>30.2085</td>\n",
       "      <td>5.3</td>\n",
       "    </tr>\n",
       "  </tbody>\n",
       "</table>\n",
       "</div>"
      ],
      "text/plain": [
       "    Invoice ID Branch city code  Customer type  Gender Product code  \\\n",
       "0  750-67-8428      A        CT1        Member  Female          PD1   \n",
       "1  226-31-3081      C        CT3        Normal  Female          PD2   \n",
       "2  631-41-3108      A        CT1        Normal    Male          PD3   \n",
       "3  123-19-1176      A        CT1        Member    Male          PD1   \n",
       "4  373-73-7910      A        CT1        Normal    Male          PD4   \n",
       "\n",
       "  Unit price  Quantity   Tax 5%     Total       Date      Time      Payment  \\\n",
       "0      74.69         7  26.1415  548.9715 2019-01-05  13:08:00      Ewallet   \n",
       "1      15.28         5   3.8200   80.2200 2019-03-08  10:29:00         Cash   \n",
       "2      46.33         7  16.2155  340.5255 2019-03-03  13:23:00  Credit card   \n",
       "3      58.22         8  23.2880  489.0480 2019-01-27  20:33:00      Ewallet   \n",
       "4      86.31         7  30.2085  634.3785 2019-02-08  10:37:00      Ewallet   \n",
       "\n",
       "     cogs  gross margin percentage  gross income  Rating  \n",
       "0  522.83                 4.761905       26.1415     9.1  \n",
       "1   76.40                 4.761905        3.8200     9.6  \n",
       "2  324.31                 4.761905       16.2155     7.4  \n",
       "3  465.76                 4.761905       23.2880     8.4  \n",
       "4  604.17                 4.761905       30.2085     5.3  "
      ]
     },
     "execution_count": 3,
     "metadata": {},
     "output_type": "execute_result"
    }
   ],
   "source": [
    "# here we are using head function to show first 5 rows of the dataset\n",
    "\n",
    "df.head()"
   ]
  },
  {
   "cell_type": "code",
   "execution_count": 4,
   "id": "441311ca",
   "metadata": {},
   "outputs": [
    {
     "data": {
      "text/html": [
       "<div>\n",
       "<style scoped>\n",
       "    .dataframe tbody tr th:only-of-type {\n",
       "        vertical-align: middle;\n",
       "    }\n",
       "\n",
       "    .dataframe tbody tr th {\n",
       "        vertical-align: top;\n",
       "    }\n",
       "\n",
       "    .dataframe thead th {\n",
       "        text-align: right;\n",
       "    }\n",
       "</style>\n",
       "<table border=\"1\" class=\"dataframe\">\n",
       "  <thead>\n",
       "    <tr style=\"text-align: right;\">\n",
       "      <th></th>\n",
       "      <th>Invoice ID</th>\n",
       "      <th>Branch</th>\n",
       "      <th>city code</th>\n",
       "      <th>Customer type</th>\n",
       "      <th>Gender</th>\n",
       "      <th>Product code</th>\n",
       "      <th>Unit price</th>\n",
       "      <th>Quantity</th>\n",
       "      <th>Tax 5%</th>\n",
       "      <th>Total</th>\n",
       "      <th>Date</th>\n",
       "      <th>Time</th>\n",
       "      <th>Payment</th>\n",
       "      <th>cogs</th>\n",
       "      <th>gross margin percentage</th>\n",
       "      <th>gross income</th>\n",
       "      <th>Rating</th>\n",
       "    </tr>\n",
       "  </thead>\n",
       "  <tbody>\n",
       "    <tr>\n",
       "      <th>995</th>\n",
       "      <td>233-67-5758</td>\n",
       "      <td>C</td>\n",
       "      <td>CT3</td>\n",
       "      <td>Normal</td>\n",
       "      <td>Male</td>\n",
       "      <td>PD1</td>\n",
       "      <td>40.35</td>\n",
       "      <td>1</td>\n",
       "      <td>2.0175</td>\n",
       "      <td>42.3675</td>\n",
       "      <td>2019-01-29</td>\n",
       "      <td>13:46:00</td>\n",
       "      <td>Ewallet</td>\n",
       "      <td>40.35</td>\n",
       "      <td>4.761905</td>\n",
       "      <td>2.0175</td>\n",
       "      <td>6.2</td>\n",
       "    </tr>\n",
       "    <tr>\n",
       "      <th>996</th>\n",
       "      <td>303-96-2227</td>\n",
       "      <td>B</td>\n",
       "      <td>CT9</td>\n",
       "      <td>Normal</td>\n",
       "      <td>Female</td>\n",
       "      <td>PD3</td>\n",
       "      <td>97.38</td>\n",
       "      <td>10</td>\n",
       "      <td>48.6900</td>\n",
       "      <td>1022.4900</td>\n",
       "      <td>2019-03-02</td>\n",
       "      <td>17:16:00</td>\n",
       "      <td>Ewallet</td>\n",
       "      <td>973.80</td>\n",
       "      <td>4.761905</td>\n",
       "      <td>48.6900</td>\n",
       "      <td>4.4</td>\n",
       "    </tr>\n",
       "    <tr>\n",
       "      <th>997</th>\n",
       "      <td>727-02-1313</td>\n",
       "      <td>A</td>\n",
       "      <td>CT1</td>\n",
       "      <td>Member</td>\n",
       "      <td>Male</td>\n",
       "      <td>PD5</td>\n",
       "      <td>31.84</td>\n",
       "      <td>1</td>\n",
       "      <td>1.5920</td>\n",
       "      <td>33.4320</td>\n",
       "      <td>2019-02-09</td>\n",
       "      <td>13:22:00</td>\n",
       "      <td>Cash</td>\n",
       "      <td>31.84</td>\n",
       "      <td>4.761905</td>\n",
       "      <td>1.5920</td>\n",
       "      <td>7.7</td>\n",
       "    </tr>\n",
       "    <tr>\n",
       "      <th>998</th>\n",
       "      <td>347-56-2442</td>\n",
       "      <td>A</td>\n",
       "      <td>CT1</td>\n",
       "      <td>Normal</td>\n",
       "      <td>Male</td>\n",
       "      <td>PD3</td>\n",
       "      <td>65.82</td>\n",
       "      <td>1</td>\n",
       "      <td>3.2910</td>\n",
       "      <td>69.1110</td>\n",
       "      <td>2019-02-22</td>\n",
       "      <td>15:33:00</td>\n",
       "      <td>Cash</td>\n",
       "      <td>65.82</td>\n",
       "      <td>4.761905</td>\n",
       "      <td>3.2910</td>\n",
       "      <td>4.1</td>\n",
       "    </tr>\n",
       "    <tr>\n",
       "      <th>999</th>\n",
       "      <td>849-09-3807</td>\n",
       "      <td>A</td>\n",
       "      <td>CT1</td>\n",
       "      <td>Member</td>\n",
       "      <td>Female</td>\n",
       "      <td>PD6</td>\n",
       "      <td>88.34</td>\n",
       "      <td>7</td>\n",
       "      <td>30.9190</td>\n",
       "      <td>649.2990</td>\n",
       "      <td>2019-02-18</td>\n",
       "      <td>13:28:00</td>\n",
       "      <td>Cash</td>\n",
       "      <td>618.38</td>\n",
       "      <td>4.761905</td>\n",
       "      <td>30.9190</td>\n",
       "      <td>6.6</td>\n",
       "    </tr>\n",
       "  </tbody>\n",
       "</table>\n",
       "</div>"
      ],
      "text/plain": [
       "      Invoice ID Branch city code  Customer type  Gender Product code  \\\n",
       "995  233-67-5758      C        CT3        Normal    Male          PD1   \n",
       "996  303-96-2227      B        CT9        Normal  Female          PD3   \n",
       "997  727-02-1313      A        CT1        Member    Male          PD5   \n",
       "998  347-56-2442      A        CT1        Normal    Male          PD3   \n",
       "999  849-09-3807      A        CT1        Member  Female          PD6   \n",
       "\n",
       "    Unit price  Quantity   Tax 5%      Total       Date      Time  Payment  \\\n",
       "995      40.35         1   2.0175    42.3675 2019-01-29  13:46:00  Ewallet   \n",
       "996      97.38        10  48.6900  1022.4900 2019-03-02  17:16:00  Ewallet   \n",
       "997      31.84         1   1.5920    33.4320 2019-02-09  13:22:00     Cash   \n",
       "998      65.82         1   3.2910    69.1110 2019-02-22  15:33:00     Cash   \n",
       "999      88.34         7  30.9190   649.2990 2019-02-18  13:28:00     Cash   \n",
       "\n",
       "       cogs  gross margin percentage  gross income  Rating  \n",
       "995   40.35                 4.761905        2.0175     6.2  \n",
       "996  973.80                 4.761905       48.6900     4.4  \n",
       "997   31.84                 4.761905        1.5920     7.7  \n",
       "998   65.82                 4.761905        3.2910     4.1  \n",
       "999  618.38                 4.761905       30.9190     6.6  "
      ]
     },
     "execution_count": 4,
     "metadata": {},
     "output_type": "execute_result"
    }
   ],
   "source": [
    "# here we are using tail function to show last 5 rows of the dataset\n",
    "\n",
    "df.tail()"
   ]
  },
  {
   "cell_type": "markdown",
   "id": "b47b84b5",
   "metadata": {},
   "source": [
    "Summary of the given dataset"
   ]
  },
  {
   "cell_type": "markdown",
   "id": "c91be585",
   "metadata": {},
   "source": [
    "The growth of supermarkets in most populated cities are increasing and market competitions are also high. The dataset is one of the historical sales of supermarket company which has recorded in 3 different branches for 3 months data. Predictive data analytics methods are easy to apply with this dataset.\n",
    "\n",
    "Feature information\n",
    "\n",
    "Invoice id: Computer generated sales slip invoice identification number\n",
    "\n",
    "Branch: Branch of supercenter (3 branches are available identified by A, B and C).\n",
    "\n",
    "Citycode: Location code of supermarkets\n",
    "\n",
    "Customer type: Type of customers, recorded by Members for customers using member card and Normal for without member card.\n",
    "\n",
    "Gender: Gender type of customer\n",
    "\n",
    "Product code: Code of general item categorization groups\n",
    "\n",
    "Unit price: Price of each product in $\n",
    "\n",
    "Quantity: Number of products purchased by customer\n",
    "\n",
    "Tax: 5% tax fee for customer buying\n",
    "\n",
    "Total: Total price including tax\n",
    "\n",
    "Date: Date of purchase (Record available from January 2019 to March 2019)\n",
    "\n",
    "Time: Purchase time (10am to 9pm)\n",
    "\n",
    "Payment: Payment used by customer for purchase (3 methods are available – Cash, Credit card and Ewallet)\n",
    "\n",
    "COGS: Cost of goods sold\n",
    "\n",
    "Gross margin percentage: Gross margin percentage\n",
    "\n",
    "Gross income: Gross income\n",
    "\n",
    "Rating: Customer stratification rating on their overall shopping experience (On a scale of 1 to 10)\n",
    "\n",
    "In the given dataset the citycode CT1, CT3, CT9 represents Yangon, Naypyitaw, Mandalay.\n",
    "\n",
    "And the product code PD1, PD2, PD3, PD4, PD5,PD6 represents Health and beauty, Electronic accessories, Home and lifestyle, \n",
    "\n",
    "Sports and travel, Food and beverages, Fashion accessories respectively."
   ]
  },
  {
   "cell_type": "code",
   "execution_count": 5,
   "id": "e1d3ce4d",
   "metadata": {},
   "outputs": [
    {
     "data": {
      "text/plain": [
       "(1000, 17)"
      ]
     },
     "execution_count": 5,
     "metadata": {},
     "output_type": "execute_result"
    }
   ],
   "source": [
    "# here we are using shape function to get the shape of entire dataset\n",
    "\n",
    "df.shape"
   ]
  },
  {
   "cell_type": "markdown",
   "id": "3ce11f24",
   "metadata": {},
   "source": [
    "In the output we can see that 1000 rows and 17 columns are there in dataset"
   ]
  },
  {
   "cell_type": "code",
   "execution_count": 6,
   "id": "78f13e21",
   "metadata": {},
   "outputs": [
    {
     "data": {
      "text/plain": [
       "Index(['Invoice ID', 'Branch', 'city code ', 'Customer type', 'Gender',\n",
       "       'Product code', 'Unit price', 'Quantity', 'Tax 5%', 'Total', 'Date',\n",
       "       'Time', 'Payment', 'cogs', 'gross margin percentage', 'gross income',\n",
       "       'Rating'],\n",
       "      dtype='object')"
      ]
     },
     "execution_count": 6,
     "metadata": {},
     "output_type": "execute_result"
    }
   ],
   "source": [
    "# here we are using columns function to get the column names of entire dataset\n",
    "\n",
    "df.columns\n"
   ]
  },
  {
   "cell_type": "code",
   "execution_count": 7,
   "id": "0ed06cf3",
   "metadata": {},
   "outputs": [
    {
     "name": "stdout",
     "output_type": "stream",
     "text": [
      "<class 'pandas.core.frame.DataFrame'>\n",
      "RangeIndex: 1000 entries, 0 to 999\n",
      "Data columns (total 17 columns):\n",
      " #   Column                   Non-Null Count  Dtype         \n",
      "---  ------                   --------------  -----         \n",
      " 0   Invoice ID               1000 non-null   object        \n",
      " 1   Branch                   1000 non-null   object        \n",
      " 2   city code                1000 non-null   object        \n",
      " 3   Customer type            1000 non-null   object        \n",
      " 4   Gender                   1000 non-null   object        \n",
      " 5   Product code             1000 non-null   object        \n",
      " 6   Unit price               996 non-null    object        \n",
      " 7   Quantity                 1000 non-null   int64         \n",
      " 8   Tax 5%                   1000 non-null   float64       \n",
      " 9   Total                    1000 non-null   float64       \n",
      " 10  Date                     1000 non-null   datetime64[ns]\n",
      " 11  Time                     1000 non-null   object        \n",
      " 12  Payment                  1000 non-null   object        \n",
      " 13  cogs                     1000 non-null   float64       \n",
      " 14  gross margin percentage  1000 non-null   float64       \n",
      " 15  gross income             1000 non-null   float64       \n",
      " 16  Rating                   993 non-null    float64       \n",
      "dtypes: datetime64[ns](1), float64(6), int64(1), object(9)\n",
      "memory usage: 132.9+ KB\n"
     ]
    }
   ],
   "source": [
    "# here we are using info funtion to get the information of dataset\n",
    "\n",
    "df.info()"
   ]
  },
  {
   "cell_type": "code",
   "execution_count": 8,
   "id": "527840a7",
   "metadata": {},
   "outputs": [
    {
     "data": {
      "text/plain": [
       "Invoice ID                         object\n",
       "Branch                             object\n",
       "city code                          object\n",
       "Customer type                      object\n",
       "Gender                             object\n",
       "Product code                       object\n",
       "Unit price                         object\n",
       "Quantity                            int64\n",
       "Tax 5%                            float64\n",
       "Total                             float64\n",
       "Date                       datetime64[ns]\n",
       "Time                               object\n",
       "Payment                            object\n",
       "cogs                              float64\n",
       "gross margin percentage           float64\n",
       "gross income                      float64\n",
       "Rating                            float64\n",
       "dtype: object"
      ]
     },
     "execution_count": 8,
     "metadata": {},
     "output_type": "execute_result"
    }
   ],
   "source": [
    "# here we are using dtypes function to get datatype of each column\n",
    "\n",
    "df.dtypes"
   ]
  },
  {
   "cell_type": "markdown",
   "id": "7d3d4a47",
   "metadata": {},
   "source": [
    "here Unit price is not in it's respective datatype we need to change it "
   ]
  },
  {
   "cell_type": "code",
   "execution_count": 9,
   "id": "d6d4289b",
   "metadata": {},
   "outputs": [],
   "source": [
    "#here we are using to_numeric function to change the datatypes\n",
    "\n",
    "#here I have  used errors = coerce because there is an empty string present in the column\n",
    "\n",
    "df['Unit price'] = pd.to_numeric(df['Unit price'], errors='coerce')\n"
   ]
  },
  {
   "cell_type": "code",
   "execution_count": 10,
   "id": "6f3bc4ef",
   "metadata": {},
   "outputs": [
    {
     "data": {
      "text/plain": [
       "Invoice ID                         object\n",
       "Branch                             object\n",
       "city code                          object\n",
       "Customer type                      object\n",
       "Gender                             object\n",
       "Product code                       object\n",
       "Unit price                        float64\n",
       "Quantity                            int64\n",
       "Tax 5%                            float64\n",
       "Total                             float64\n",
       "Date                       datetime64[ns]\n",
       "Time                               object\n",
       "Payment                            object\n",
       "cogs                              float64\n",
       "gross margin percentage           float64\n",
       "gross income                      float64\n",
       "Rating                            float64\n",
       "dtype: object"
      ]
     },
     "execution_count": 10,
     "metadata": {},
     "output_type": "execute_result"
    }
   ],
   "source": [
    "#again checking for the datatypes\n",
    "\n",
    "df.dtypes"
   ]
  },
  {
   "cell_type": "code",
   "execution_count": 11,
   "id": "5c922584",
   "metadata": {},
   "outputs": [
    {
     "data": {
      "text/plain": [
       "Invoice ID                  0\n",
       "Branch                      0\n",
       "city code                   0\n",
       "Customer type               0\n",
       "Gender                      0\n",
       "Product code                0\n",
       "Unit price                 12\n",
       "Quantity                    0\n",
       "Tax 5%                      0\n",
       "Total                       0\n",
       "Date                        0\n",
       "Time                        0\n",
       "Payment                     0\n",
       "cogs                        0\n",
       "gross margin percentage     0\n",
       "gross income                0\n",
       "Rating                      7\n",
       "dtype: int64"
      ]
     },
     "execution_count": 11,
     "metadata": {},
     "output_type": "execute_result"
    }
   ],
   "source": [
    "#here we are using isna function to check for null values\n",
    "\n",
    "df.isna().sum()"
   ]
  },
  {
   "cell_type": "markdown",
   "id": "55ead1c5",
   "metadata": {},
   "source": [
    "Unit price and Rating columns have null values"
   ]
  },
  {
   "cell_type": "code",
   "execution_count": 12,
   "id": "1deb4337",
   "metadata": {},
   "outputs": [
    {
     "data": {
      "text/plain": [
       "<AxesSubplot:>"
      ]
     },
     "execution_count": 12,
     "metadata": {},
     "output_type": "execute_result"
    },
    {
     "data": {
      "image/png": "[encoded data removed]",
      "text/plain": [
       "<Figure size 432x288 with 1 Axes>"
      ]
     },
     "metadata": {
      "needs_background": "light"
     },
     "output_type": "display_data"
    }
   ],
   "source": [
    "#To impute the null values I have to check whether the columns have outliers or not\n",
    "\n",
    "#here I have used boxplot to check for the outliers present in the column.\n",
    "\n",
    "df.boxplot(column=['Unit price'])\n"
   ]
  },
  {
   "cell_type": "markdown",
   "id": "9311306e",
   "metadata": {},
   "source": [
    "Unit price doesn't have any outliers and it is normally distributed. Hence I am replacing the null values with mean."
   ]
  },
  {
   "cell_type": "code",
   "execution_count": 13,
   "id": "6800eb17",
   "metadata": {},
   "outputs": [
    {
     "data": {
      "text/plain": [
       "55.75514170040482"
      ]
     },
     "execution_count": 13,
     "metadata": {},
     "output_type": "execute_result"
    }
   ],
   "source": [
    "#Finding the mean of the column having NaN\n",
    "\n",
    "mean_value=df['Unit price'].mean()\n",
    "\n",
    "mean_value\n",
    "  "
   ]
  },
  {
   "cell_type": "code",
   "execution_count": 14,
   "id": "4349bb38",
   "metadata": {},
   "outputs": [],
   "source": [
    "#replacing null values in unit price column with mean of the column\n",
    "\n",
    "df['Unit price'].fillna(value=mean_value, inplace=True)\n"
   ]
  },
  {
   "cell_type": "code",
   "execution_count": 15,
   "id": "ea66fb84",
   "metadata": {},
   "outputs": [
    {
     "data": {
      "text/plain": [
       "<AxesSubplot:>"
      ]
     },
     "execution_count": 15,
     "metadata": {},
     "output_type": "execute_result"
    },
    {
     "data": {
      "image/png": "[encoded data removed]",
      "text/plain": [
       "<Figure size 432x288 with 1 Axes>"
      ]
     },
     "metadata": {
      "needs_background": "light"
     },
     "output_type": "display_data"
    }
   ],
   "source": [
    "#here I have used boxplot to check for the outliers present in the column.\n",
    "\n",
    "df.boxplot(column=['Rating'])\n"
   ]
  },
  {
   "cell_type": "markdown",
   "id": "95963f89",
   "metadata": {},
   "source": [
    "Rating doesn't have any outliers and it is normally distributed. Hence I am replacing the null values with mean."
   ]
  },
  {
   "cell_type": "code",
   "execution_count": 16,
   "id": "e8601133",
   "metadata": {},
   "outputs": [
    {
     "data": {
      "text/plain": [
       "6.966163141993961"
      ]
     },
     "execution_count": 16,
     "metadata": {},
     "output_type": "execute_result"
    }
   ],
   "source": [
    "#Finding the mean of the column having NaN\n",
    "\n",
    "mean_value1=df['Rating'].mean()\n",
    "\n",
    "mean_value1"
   ]
  },
  {
   "cell_type": "code",
   "execution_count": 17,
   "id": "f4260b32",
   "metadata": {},
   "outputs": [],
   "source": [
    "#replacing null values in unit price column with mean of the column\n",
    "\n",
    "df['Rating'].fillna(value=mean_value1, inplace=True)\n"
   ]
  },
  {
   "cell_type": "code",
   "execution_count": 18,
   "id": "2806c6fb",
   "metadata": {},
   "outputs": [
    {
     "data": {
      "text/html": [
       "<div>\n",
       "<style scoped>\n",
       "    .dataframe tbody tr th:only-of-type {\n",
       "        vertical-align: middle;\n",
       "    }\n",
       "\n",
       "    .dataframe tbody tr th {\n",
       "        vertical-align: top;\n",
       "    }\n",
       "\n",
       "    .dataframe thead th {\n",
       "        text-align: right;\n",
       "    }\n",
       "</style>\n",
       "<table border=\"1\" class=\"dataframe\">\n",
       "  <thead>\n",
       "    <tr style=\"text-align: right;\">\n",
       "      <th></th>\n",
       "      <th>Invoice ID</th>\n",
       "      <th>Branch</th>\n",
       "      <th>city code</th>\n",
       "      <th>Customer type</th>\n",
       "      <th>Gender</th>\n",
       "      <th>Product code</th>\n",
       "      <th>Unit price</th>\n",
       "      <th>Quantity</th>\n",
       "      <th>Tax 5%</th>\n",
       "      <th>Total</th>\n",
       "      <th>Date</th>\n",
       "      <th>Time</th>\n",
       "      <th>Payment</th>\n",
       "      <th>cogs</th>\n",
       "      <th>gross margin percentage</th>\n",
       "      <th>gross income</th>\n",
       "      <th>Rating</th>\n",
       "    </tr>\n",
       "  </thead>\n",
       "  <tbody>\n",
       "    <tr>\n",
       "      <th>0</th>\n",
       "      <td>750-67-8428</td>\n",
       "      <td>A</td>\n",
       "      <td>CT1</td>\n",
       "      <td>Member</td>\n",
       "      <td>Female</td>\n",
       "      <td>PD1</td>\n",
       "      <td>74.69</td>\n",
       "      <td>7</td>\n",
       "      <td>26.1415</td>\n",
       "      <td>548.9715</td>\n",
       "      <td>2019-01-05</td>\n",
       "      <td>13:08:00</td>\n",
       "      <td>Ewallet</td>\n",
       "      <td>522.83</td>\n",
       "      <td>4.761905</td>\n",
       "      <td>26.1415</td>\n",
       "      <td>9.1</td>\n",
       "    </tr>\n",
       "    <tr>\n",
       "      <th>1</th>\n",
       "      <td>226-31-3081</td>\n",
       "      <td>C</td>\n",
       "      <td>CT3</td>\n",
       "      <td>Normal</td>\n",
       "      <td>Female</td>\n",
       "      <td>PD2</td>\n",
       "      <td>15.28</td>\n",
       "      <td>5</td>\n",
       "      <td>3.8200</td>\n",
       "      <td>80.2200</td>\n",
       "      <td>2019-03-08</td>\n",
       "      <td>10:29:00</td>\n",
       "      <td>Cash</td>\n",
       "      <td>76.40</td>\n",
       "      <td>4.761905</td>\n",
       "      <td>3.8200</td>\n",
       "      <td>9.6</td>\n",
       "    </tr>\n",
       "    <tr>\n",
       "      <th>2</th>\n",
       "      <td>631-41-3108</td>\n",
       "      <td>A</td>\n",
       "      <td>CT1</td>\n",
       "      <td>Normal</td>\n",
       "      <td>Male</td>\n",
       "      <td>PD3</td>\n",
       "      <td>46.33</td>\n",
       "      <td>7</td>\n",
       "      <td>16.2155</td>\n",
       "      <td>340.5255</td>\n",
       "      <td>2019-03-03</td>\n",
       "      <td>13:23:00</td>\n",
       "      <td>Credit card</td>\n",
       "      <td>324.31</td>\n",
       "      <td>4.761905</td>\n",
       "      <td>16.2155</td>\n",
       "      <td>7.4</td>\n",
       "    </tr>\n",
       "    <tr>\n",
       "      <th>3</th>\n",
       "      <td>123-19-1176</td>\n",
       "      <td>A</td>\n",
       "      <td>CT1</td>\n",
       "      <td>Member</td>\n",
       "      <td>Male</td>\n",
       "      <td>PD1</td>\n",
       "      <td>58.22</td>\n",
       "      <td>8</td>\n",
       "      <td>23.2880</td>\n",
       "      <td>489.0480</td>\n",
       "      <td>2019-01-27</td>\n",
       "      <td>20:33:00</td>\n",
       "      <td>Ewallet</td>\n",
       "      <td>465.76</td>\n",
       "      <td>4.761905</td>\n",
       "      <td>23.2880</td>\n",
       "      <td>8.4</td>\n",
       "    </tr>\n",
       "    <tr>\n",
       "      <th>4</th>\n",
       "      <td>373-73-7910</td>\n",
       "      <td>A</td>\n",
       "      <td>CT1</td>\n",
       "      <td>Normal</td>\n",
       "      <td>Male</td>\n",
       "      <td>PD4</td>\n",
       "      <td>86.31</td>\n",
       "      <td>7</td>\n",
       "      <td>30.2085</td>\n",
       "      <td>634.3785</td>\n",
       "      <td>2019-02-08</td>\n",
       "      <td>10:37:00</td>\n",
       "      <td>Ewallet</td>\n",
       "      <td>604.17</td>\n",
       "      <td>4.761905</td>\n",
       "      <td>30.2085</td>\n",
       "      <td>5.3</td>\n",
       "    </tr>\n",
       "    <tr>\n",
       "      <th>...</th>\n",
       "      <td>...</td>\n",
       "      <td>...</td>\n",
       "      <td>...</td>\n",
       "      <td>...</td>\n",
       "      <td>...</td>\n",
       "      <td>...</td>\n",
       "      <td>...</td>\n",
       "      <td>...</td>\n",
       "      <td>...</td>\n",
       "      <td>...</td>\n",
       "      <td>...</td>\n",
       "      <td>...</td>\n",
       "      <td>...</td>\n",
       "      <td>...</td>\n",
       "      <td>...</td>\n",
       "      <td>...</td>\n",
       "      <td>...</td>\n",
       "    </tr>\n",
       "    <tr>\n",
       "      <th>995</th>\n",
       "      <td>233-67-5758</td>\n",
       "      <td>C</td>\n",
       "      <td>CT3</td>\n",
       "      <td>Normal</td>\n",
       "      <td>Male</td>\n",
       "      <td>PD1</td>\n",
       "      <td>40.35</td>\n",
       "      <td>1</td>\n",
       "      <td>2.0175</td>\n",
       "      <td>42.3675</td>\n",
       "      <td>2019-01-29</td>\n",
       "      <td>13:46:00</td>\n",
       "      <td>Ewallet</td>\n",
       "      <td>40.35</td>\n",
       "      <td>4.761905</td>\n",
       "      <td>2.0175</td>\n",
       "      <td>6.2</td>\n",
       "    </tr>\n",
       "    <tr>\n",
       "      <th>996</th>\n",
       "      <td>303-96-2227</td>\n",
       "      <td>B</td>\n",
       "      <td>CT9</td>\n",
       "      <td>Normal</td>\n",
       "      <td>Female</td>\n",
       "      <td>PD3</td>\n",
       "      <td>97.38</td>\n",
       "      <td>10</td>\n",
       "      <td>48.6900</td>\n",
       "      <td>1022.4900</td>\n",
       "      <td>2019-03-02</td>\n",
       "      <td>17:16:00</td>\n",
       "      <td>Ewallet</td>\n",
       "      <td>973.80</td>\n",
       "      <td>4.761905</td>\n",
       "      <td>48.6900</td>\n",
       "      <td>4.4</td>\n",
       "    </tr>\n",
       "    <tr>\n",
       "      <th>997</th>\n",
       "      <td>727-02-1313</td>\n",
       "      <td>A</td>\n",
       "      <td>CT1</td>\n",
       "      <td>Member</td>\n",
       "      <td>Male</td>\n",
       "      <td>PD5</td>\n",
       "      <td>31.84</td>\n",
       "      <td>1</td>\n",
       "      <td>1.5920</td>\n",
       "      <td>33.4320</td>\n",
       "      <td>2019-02-09</td>\n",
       "      <td>13:22:00</td>\n",
       "      <td>Cash</td>\n",
       "      <td>31.84</td>\n",
       "      <td>4.761905</td>\n",
       "      <td>1.5920</td>\n",
       "      <td>7.7</td>\n",
       "    </tr>\n",
       "    <tr>\n",
       "      <th>998</th>\n",
       "      <td>347-56-2442</td>\n",
       "      <td>A</td>\n",
       "      <td>CT1</td>\n",
       "      <td>Normal</td>\n",
       "      <td>Male</td>\n",
       "      <td>PD3</td>\n",
       "      <td>65.82</td>\n",
       "      <td>1</td>\n",
       "      <td>3.2910</td>\n",
       "      <td>69.1110</td>\n",
       "      <td>2019-02-22</td>\n",
       "      <td>15:33:00</td>\n",
       "      <td>Cash</td>\n",
       "      <td>65.82</td>\n",
       "      <td>4.761905</td>\n",
       "      <td>3.2910</td>\n",
       "      <td>4.1</td>\n",
       "    </tr>\n",
       "    <tr>\n",
       "      <th>999</th>\n",
       "      <td>849-09-3807</td>\n",
       "      <td>A</td>\n",
       "      <td>CT1</td>\n",
       "      <td>Member</td>\n",
       "      <td>Female</td>\n",
       "      <td>PD6</td>\n",
       "      <td>88.34</td>\n",
       "      <td>7</td>\n",
       "      <td>30.9190</td>\n",
       "      <td>649.2990</td>\n",
       "      <td>2019-02-18</td>\n",
       "      <td>13:28:00</td>\n",
       "      <td>Cash</td>\n",
       "      <td>618.38</td>\n",
       "      <td>4.761905</td>\n",
       "      <td>30.9190</td>\n",
       "      <td>6.6</td>\n",
       "    </tr>\n",
       "  </tbody>\n",
       "</table>\n",
       "<p>1000 rows × 17 columns</p>\n",
       "</div>"
      ],
      "text/plain": [
       "      Invoice ID Branch city code  Customer type  Gender Product code  \\\n",
       "0    750-67-8428      A        CT1        Member  Female          PD1   \n",
       "1    226-31-3081      C        CT3        Normal  Female          PD2   \n",
       "2    631-41-3108      A        CT1        Normal    Male          PD3   \n",
       "3    123-19-1176      A        CT1        Member    Male          PD1   \n",
       "4    373-73-7910      A        CT1        Normal    Male          PD4   \n",
       "..           ...    ...        ...           ...     ...          ...   \n",
       "995  233-67-5758      C        CT3        Normal    Male          PD1   \n",
       "996  303-96-2227      B        CT9        Normal  Female          PD3   \n",
       "997  727-02-1313      A        CT1        Member    Male          PD5   \n",
       "998  347-56-2442      A        CT1        Normal    Male          PD3   \n",
       "999  849-09-3807      A        CT1        Member  Female          PD6   \n",
       "\n",
       "     Unit price  Quantity   Tax 5%      Total       Date      Time  \\\n",
       "0         74.69         7  26.1415   548.9715 2019-01-05  13:08:00   \n",
       "1         15.28         5   3.8200    80.2200 2019-03-08  10:29:00   \n",
       "2         46.33         7  16.2155   340.5255 2019-03-03  13:23:00   \n",
       "3         58.22         8  23.2880   489.0480 2019-01-27  20:33:00   \n",
       "4         86.31         7  30.2085   634.3785 2019-02-08  10:37:00   \n",
       "..          ...       ...      ...        ...        ...       ...   \n",
       "995       40.35         1   2.0175    42.3675 2019-01-29  13:46:00   \n",
       "996       97.38        10  48.6900  1022.4900 2019-03-02  17:16:00   \n",
       "997       31.84         1   1.5920    33.4320 2019-02-09  13:22:00   \n",
       "998       65.82         1   3.2910    69.1110 2019-02-22  15:33:00   \n",
       "999       88.34         7  30.9190   649.2990 2019-02-18  13:28:00   \n",
       "\n",
       "         Payment    cogs  gross margin percentage  gross income  Rating  \n",
       "0        Ewallet  522.83                 4.761905       26.1415     9.1  \n",
       "1           Cash   76.40                 4.761905        3.8200     9.6  \n",
       "2    Credit card  324.31                 4.761905       16.2155     7.4  \n",
       "3        Ewallet  465.76                 4.761905       23.2880     8.4  \n",
       "4        Ewallet  604.17                 4.761905       30.2085     5.3  \n",
       "..           ...     ...                      ...           ...     ...  \n",
       "995      Ewallet   40.35                 4.761905        2.0175     6.2  \n",
       "996      Ewallet  973.80                 4.761905       48.6900     4.4  \n",
       "997         Cash   31.84                 4.761905        1.5920     7.7  \n",
       "998         Cash   65.82                 4.761905        3.2910     4.1  \n",
       "999         Cash  618.38                 4.761905       30.9190     6.6  \n",
       "\n",
       "[1000 rows x 17 columns]"
      ]
     },
     "execution_count": 18,
     "metadata": {},
     "output_type": "execute_result"
    }
   ],
   "source": [
    "#rounding off the values in unitprice and rating columns\n",
    "\n",
    "df.round({'Unitprice':2, 'Rating':1})"
   ]
  },
  {
   "cell_type": "code",
   "execution_count": 19,
   "id": "0f6c2294",
   "metadata": {},
   "outputs": [
    {
     "data": {
      "text/plain": [
       "Invoice ID                 0\n",
       "Branch                     0\n",
       "city code                  0\n",
       "Customer type              0\n",
       "Gender                     0\n",
       "Product code               0\n",
       "Unit price                 0\n",
       "Quantity                   0\n",
       "Tax 5%                     0\n",
       "Total                      0\n",
       "Date                       0\n",
       "Time                       0\n",
       "Payment                    0\n",
       "cogs                       0\n",
       "gross margin percentage    0\n",
       "gross income               0\n",
       "Rating                     0\n",
       "dtype: int64"
      ]
     },
     "execution_count": 19,
     "metadata": {},
     "output_type": "execute_result"
    }
   ],
   "source": [
    "#again checking for null values\n",
    "\n",
    "df.isna().sum()"
   ]
  },
  {
   "cell_type": "markdown",
   "id": "18afcaf5",
   "metadata": {},
   "source": [
    "There are no null values in the dataset we can proceed with further analysis"
   ]
  },
  {
   "cell_type": "code",
   "execution_count": 20,
   "id": "92d339c3",
   "metadata": {},
   "outputs": [
    {
     "data": {
      "text/plain": [
       "False    1000\n",
       "dtype: int64"
      ]
     },
     "execution_count": 20,
     "metadata": {},
     "output_type": "execute_result"
    }
   ],
   "source": [
    "#checking for the duplicates in the dataset\n",
    "\n",
    "df.duplicated().value_counts()"
   ]
  },
  {
   "cell_type": "markdown",
   "id": "a56fb8f9",
   "metadata": {},
   "source": [
    "there are no duplicate rows present in the dataset."
   ]
  },
  {
   "cell_type": "code",
   "execution_count": 21,
   "id": "f45241de",
   "metadata": {},
   "outputs": [
    {
     "data": {
      "text/html": [
       "<div>\n",
       "<style scoped>\n",
       "    .dataframe tbody tr th:only-of-type {\n",
       "        vertical-align: middle;\n",
       "    }\n",
       "\n",
       "    .dataframe tbody tr th {\n",
       "        vertical-align: top;\n",
       "    }\n",
       "\n",
       "    .dataframe thead th {\n",
       "        text-align: right;\n",
       "    }\n",
       "</style>\n",
       "<table border=\"1\" class=\"dataframe\">\n",
       "  <thead>\n",
       "    <tr style=\"text-align: right;\">\n",
       "      <th></th>\n",
       "      <th>Unit price</th>\n",
       "      <th>Quantity</th>\n",
       "      <th>Tax 5%</th>\n",
       "      <th>Total</th>\n",
       "      <th>cogs</th>\n",
       "      <th>gross margin percentage</th>\n",
       "      <th>gross income</th>\n",
       "      <th>Rating</th>\n",
       "    </tr>\n",
       "  </thead>\n",
       "  <tbody>\n",
       "    <tr>\n",
       "      <th>count</th>\n",
       "      <td>1000.000000</td>\n",
       "      <td>1000.000000</td>\n",
       "      <td>1000.000000</td>\n",
       "      <td>1000.000000</td>\n",
       "      <td>1000.00000</td>\n",
       "      <td>1.000000e+03</td>\n",
       "      <td>1000.000000</td>\n",
       "      <td>1000.000000</td>\n",
       "    </tr>\n",
       "    <tr>\n",
       "      <th>mean</th>\n",
       "      <td>55.755142</td>\n",
       "      <td>5.510000</td>\n",
       "      <td>15.379369</td>\n",
       "      <td>322.966749</td>\n",
       "      <td>307.58738</td>\n",
       "      <td>4.761905e+00</td>\n",
       "      <td>15.379369</td>\n",
       "      <td>6.966163</td>\n",
       "    </tr>\n",
       "    <tr>\n",
       "      <th>std</th>\n",
       "      <td>26.368345</td>\n",
       "      <td>2.923431</td>\n",
       "      <td>11.708825</td>\n",
       "      <td>245.885335</td>\n",
       "      <td>234.17651</td>\n",
       "      <td>6.131498e-14</td>\n",
       "      <td>11.708825</td>\n",
       "      <td>1.713265</td>\n",
       "    </tr>\n",
       "    <tr>\n",
       "      <th>min</th>\n",
       "      <td>10.080000</td>\n",
       "      <td>1.000000</td>\n",
       "      <td>0.508500</td>\n",
       "      <td>10.678500</td>\n",
       "      <td>10.17000</td>\n",
       "      <td>4.761905e+00</td>\n",
       "      <td>0.508500</td>\n",
       "      <td>4.000000</td>\n",
       "    </tr>\n",
       "    <tr>\n",
       "      <th>25%</th>\n",
       "      <td>33.247500</td>\n",
       "      <td>3.000000</td>\n",
       "      <td>5.924875</td>\n",
       "      <td>124.422375</td>\n",
       "      <td>118.49750</td>\n",
       "      <td>4.761905e+00</td>\n",
       "      <td>5.924875</td>\n",
       "      <td>5.500000</td>\n",
       "    </tr>\n",
       "    <tr>\n",
       "      <th>50%</th>\n",
       "      <td>55.755142</td>\n",
       "      <td>5.000000</td>\n",
       "      <td>12.088000</td>\n",
       "      <td>253.848000</td>\n",
       "      <td>241.76000</td>\n",
       "      <td>4.761905e+00</td>\n",
       "      <td>12.088000</td>\n",
       "      <td>6.966163</td>\n",
       "    </tr>\n",
       "    <tr>\n",
       "      <th>75%</th>\n",
       "      <td>77.690000</td>\n",
       "      <td>8.000000</td>\n",
       "      <td>22.445250</td>\n",
       "      <td>471.350250</td>\n",
       "      <td>448.90500</td>\n",
       "      <td>4.761905e+00</td>\n",
       "      <td>22.445250</td>\n",
       "      <td>8.425000</td>\n",
       "    </tr>\n",
       "    <tr>\n",
       "      <th>max</th>\n",
       "      <td>99.960000</td>\n",
       "      <td>10.000000</td>\n",
       "      <td>49.650000</td>\n",
       "      <td>1042.650000</td>\n",
       "      <td>993.00000</td>\n",
       "      <td>4.761905e+00</td>\n",
       "      <td>49.650000</td>\n",
       "      <td>10.000000</td>\n",
       "    </tr>\n",
       "  </tbody>\n",
       "</table>\n",
       "</div>"
      ],
      "text/plain": [
       "        Unit price     Quantity       Tax 5%        Total        cogs  \\\n",
       "count  1000.000000  1000.000000  1000.000000  1000.000000  1000.00000   \n",
       "mean     55.755142     5.510000    15.379369   322.966749   307.58738   \n",
       "std      26.368345     2.923431    11.708825   245.885335   234.17651   \n",
       "min      10.080000     1.000000     0.508500    10.678500    10.17000   \n",
       "25%      33.247500     3.000000     5.924875   124.422375   118.49750   \n",
       "50%      55.755142     5.000000    12.088000   253.848000   241.76000   \n",
       "75%      77.690000     8.000000    22.445250   471.350250   448.90500   \n",
       "max      99.960000    10.000000    49.650000  1042.650000   993.00000   \n",
       "\n",
       "       gross margin percentage  gross income       Rating  \n",
       "count             1.000000e+03   1000.000000  1000.000000  \n",
       "mean              4.761905e+00     15.379369     6.966163  \n",
       "std               6.131498e-14     11.708825     1.713265  \n",
       "min               4.761905e+00      0.508500     4.000000  \n",
       "25%               4.761905e+00      5.924875     5.500000  \n",
       "50%               4.761905e+00     12.088000     6.966163  \n",
       "75%               4.761905e+00     22.445250     8.425000  \n",
       "max               4.761905e+00     49.650000    10.000000  "
      ]
     },
     "execution_count": 21,
     "metadata": {},
     "output_type": "execute_result"
    }
   ],
   "source": [
    "#checking for basic statistical summary of dataset\n",
    "\n",
    "df.describe()"
   ]
  },
  {
   "cell_type": "code",
   "execution_count": 22,
   "id": "d2585ecb",
   "metadata": {},
   "outputs": [
    {
     "data": {
      "text/html": [
       "<div>\n",
       "<style scoped>\n",
       "    .dataframe tbody tr th:only-of-type {\n",
       "        vertical-align: middle;\n",
       "    }\n",
       "\n",
       "    .dataframe tbody tr th {\n",
       "        vertical-align: top;\n",
       "    }\n",
       "\n",
       "    .dataframe thead th {\n",
       "        text-align: right;\n",
       "    }\n",
       "</style>\n",
       "<table border=\"1\" class=\"dataframe\">\n",
       "  <thead>\n",
       "    <tr style=\"text-align: right;\">\n",
       "      <th></th>\n",
       "      <th>Invoice ID</th>\n",
       "      <th>Branch</th>\n",
       "      <th>city code</th>\n",
       "      <th>Customer type</th>\n",
       "      <th>Gender</th>\n",
       "      <th>Product code</th>\n",
       "      <th>Unit price</th>\n",
       "      <th>Quantity</th>\n",
       "      <th>Tax 5%</th>\n",
       "      <th>Total</th>\n",
       "      <th>Date</th>\n",
       "      <th>Time</th>\n",
       "      <th>Payment</th>\n",
       "      <th>cogs</th>\n",
       "      <th>gross margin percentage</th>\n",
       "      <th>gross income</th>\n",
       "      <th>Rating</th>\n",
       "      <th>weekdays</th>\n",
       "    </tr>\n",
       "  </thead>\n",
       "  <tbody>\n",
       "    <tr>\n",
       "      <th>0</th>\n",
       "      <td>750-67-8428</td>\n",
       "      <td>A</td>\n",
       "      <td>CT1</td>\n",
       "      <td>Member</td>\n",
       "      <td>Female</td>\n",
       "      <td>PD1</td>\n",
       "      <td>74.69</td>\n",
       "      <td>7</td>\n",
       "      <td>26.1415</td>\n",
       "      <td>548.9715</td>\n",
       "      <td>2019-01-05</td>\n",
       "      <td>13:08:00</td>\n",
       "      <td>Ewallet</td>\n",
       "      <td>522.83</td>\n",
       "      <td>4.761905</td>\n",
       "      <td>26.1415</td>\n",
       "      <td>9.1</td>\n",
       "      <td>Saturday</td>\n",
       "    </tr>\n",
       "    <tr>\n",
       "      <th>1</th>\n",
       "      <td>226-31-3081</td>\n",
       "      <td>C</td>\n",
       "      <td>CT3</td>\n",
       "      <td>Normal</td>\n",
       "      <td>Female</td>\n",
       "      <td>PD2</td>\n",
       "      <td>15.28</td>\n",
       "      <td>5</td>\n",
       "      <td>3.8200</td>\n",
       "      <td>80.2200</td>\n",
       "      <td>2019-03-08</td>\n",
       "      <td>10:29:00</td>\n",
       "      <td>Cash</td>\n",
       "      <td>76.40</td>\n",
       "      <td>4.761905</td>\n",
       "      <td>3.8200</td>\n",
       "      <td>9.6</td>\n",
       "      <td>Friday</td>\n",
       "    </tr>\n",
       "    <tr>\n",
       "      <th>2</th>\n",
       "      <td>631-41-3108</td>\n",
       "      <td>A</td>\n",
       "      <td>CT1</td>\n",
       "      <td>Normal</td>\n",
       "      <td>Male</td>\n",
       "      <td>PD3</td>\n",
       "      <td>46.33</td>\n",
       "      <td>7</td>\n",
       "      <td>16.2155</td>\n",
       "      <td>340.5255</td>\n",
       "      <td>2019-03-03</td>\n",
       "      <td>13:23:00</td>\n",
       "      <td>Credit card</td>\n",
       "      <td>324.31</td>\n",
       "      <td>4.761905</td>\n",
       "      <td>16.2155</td>\n",
       "      <td>7.4</td>\n",
       "      <td>Sunday</td>\n",
       "    </tr>\n",
       "    <tr>\n",
       "      <th>3</th>\n",
       "      <td>123-19-1176</td>\n",
       "      <td>A</td>\n",
       "      <td>CT1</td>\n",
       "      <td>Member</td>\n",
       "      <td>Male</td>\n",
       "      <td>PD1</td>\n",
       "      <td>58.22</td>\n",
       "      <td>8</td>\n",
       "      <td>23.2880</td>\n",
       "      <td>489.0480</td>\n",
       "      <td>2019-01-27</td>\n",
       "      <td>20:33:00</td>\n",
       "      <td>Ewallet</td>\n",
       "      <td>465.76</td>\n",
       "      <td>4.761905</td>\n",
       "      <td>23.2880</td>\n",
       "      <td>8.4</td>\n",
       "      <td>Sunday</td>\n",
       "    </tr>\n",
       "    <tr>\n",
       "      <th>4</th>\n",
       "      <td>373-73-7910</td>\n",
       "      <td>A</td>\n",
       "      <td>CT1</td>\n",
       "      <td>Normal</td>\n",
       "      <td>Male</td>\n",
       "      <td>PD4</td>\n",
       "      <td>86.31</td>\n",
       "      <td>7</td>\n",
       "      <td>30.2085</td>\n",
       "      <td>634.3785</td>\n",
       "      <td>2019-02-08</td>\n",
       "      <td>10:37:00</td>\n",
       "      <td>Ewallet</td>\n",
       "      <td>604.17</td>\n",
       "      <td>4.761905</td>\n",
       "      <td>30.2085</td>\n",
       "      <td>5.3</td>\n",
       "      <td>Friday</td>\n",
       "    </tr>\n",
       "    <tr>\n",
       "      <th>...</th>\n",
       "      <td>...</td>\n",
       "      <td>...</td>\n",
       "      <td>...</td>\n",
       "      <td>...</td>\n",
       "      <td>...</td>\n",
       "      <td>...</td>\n",
       "      <td>...</td>\n",
       "      <td>...</td>\n",
       "      <td>...</td>\n",
       "      <td>...</td>\n",
       "      <td>...</td>\n",
       "      <td>...</td>\n",
       "      <td>...</td>\n",
       "      <td>...</td>\n",
       "      <td>...</td>\n",
       "      <td>...</td>\n",
       "      <td>...</td>\n",
       "      <td>...</td>\n",
       "    </tr>\n",
       "    <tr>\n",
       "      <th>995</th>\n",
       "      <td>233-67-5758</td>\n",
       "      <td>C</td>\n",
       "      <td>CT3</td>\n",
       "      <td>Normal</td>\n",
       "      <td>Male</td>\n",
       "      <td>PD1</td>\n",
       "      <td>40.35</td>\n",
       "      <td>1</td>\n",
       "      <td>2.0175</td>\n",
       "      <td>42.3675</td>\n",
       "      <td>2019-01-29</td>\n",
       "      <td>13:46:00</td>\n",
       "      <td>Ewallet</td>\n",
       "      <td>40.35</td>\n",
       "      <td>4.761905</td>\n",
       "      <td>2.0175</td>\n",
       "      <td>6.2</td>\n",
       "      <td>Tuesday</td>\n",
       "    </tr>\n",
       "    <tr>\n",
       "      <th>996</th>\n",
       "      <td>303-96-2227</td>\n",
       "      <td>B</td>\n",
       "      <td>CT9</td>\n",
       "      <td>Normal</td>\n",
       "      <td>Female</td>\n",
       "      <td>PD3</td>\n",
       "      <td>97.38</td>\n",
       "      <td>10</td>\n",
       "      <td>48.6900</td>\n",
       "      <td>1022.4900</td>\n",
       "      <td>2019-03-02</td>\n",
       "      <td>17:16:00</td>\n",
       "      <td>Ewallet</td>\n",
       "      <td>973.80</td>\n",
       "      <td>4.761905</td>\n",
       "      <td>48.6900</td>\n",
       "      <td>4.4</td>\n",
       "      <td>Saturday</td>\n",
       "    </tr>\n",
       "    <tr>\n",
       "      <th>997</th>\n",
       "      <td>727-02-1313</td>\n",
       "      <td>A</td>\n",
       "      <td>CT1</td>\n",
       "      <td>Member</td>\n",
       "      <td>Male</td>\n",
       "      <td>PD5</td>\n",
       "      <td>31.84</td>\n",
       "      <td>1</td>\n",
       "      <td>1.5920</td>\n",
       "      <td>33.4320</td>\n",
       "      <td>2019-02-09</td>\n",
       "      <td>13:22:00</td>\n",
       "      <td>Cash</td>\n",
       "      <td>31.84</td>\n",
       "      <td>4.761905</td>\n",
       "      <td>1.5920</td>\n",
       "      <td>7.7</td>\n",
       "      <td>Saturday</td>\n",
       "    </tr>\n",
       "    <tr>\n",
       "      <th>998</th>\n",
       "      <td>347-56-2442</td>\n",
       "      <td>A</td>\n",
       "      <td>CT1</td>\n",
       "      <td>Normal</td>\n",
       "      <td>Male</td>\n",
       "      <td>PD3</td>\n",
       "      <td>65.82</td>\n",
       "      <td>1</td>\n",
       "      <td>3.2910</td>\n",
       "      <td>69.1110</td>\n",
       "      <td>2019-02-22</td>\n",
       "      <td>15:33:00</td>\n",
       "      <td>Cash</td>\n",
       "      <td>65.82</td>\n",
       "      <td>4.761905</td>\n",
       "      <td>3.2910</td>\n",
       "      <td>4.1</td>\n",
       "      <td>Friday</td>\n",
       "    </tr>\n",
       "    <tr>\n",
       "      <th>999</th>\n",
       "      <td>849-09-3807</td>\n",
       "      <td>A</td>\n",
       "      <td>CT1</td>\n",
       "      <td>Member</td>\n",
       "      <td>Female</td>\n",
       "      <td>PD6</td>\n",
       "      <td>88.34</td>\n",
       "      <td>7</td>\n",
       "      <td>30.9190</td>\n",
       "      <td>649.2990</td>\n",
       "      <td>2019-02-18</td>\n",
       "      <td>13:28:00</td>\n",
       "      <td>Cash</td>\n",
       "      <td>618.38</td>\n",
       "      <td>4.761905</td>\n",
       "      <td>30.9190</td>\n",
       "      <td>6.6</td>\n",
       "      <td>Monday</td>\n",
       "    </tr>\n",
       "  </tbody>\n",
       "</table>\n",
       "<p>1000 rows × 18 columns</p>\n",
       "</div>"
      ],
      "text/plain": [
       "      Invoice ID Branch city code  Customer type  Gender Product code  \\\n",
       "0    750-67-8428      A        CT1        Member  Female          PD1   \n",
       "1    226-31-3081      C        CT3        Normal  Female          PD2   \n",
       "2    631-41-3108      A        CT1        Normal    Male          PD3   \n",
       "3    123-19-1176      A        CT1        Member    Male          PD1   \n",
       "4    373-73-7910      A        CT1        Normal    Male          PD4   \n",
       "..           ...    ...        ...           ...     ...          ...   \n",
       "995  233-67-5758      C        CT3        Normal    Male          PD1   \n",
       "996  303-96-2227      B        CT9        Normal  Female          PD3   \n",
       "997  727-02-1313      A        CT1        Member    Male          PD5   \n",
       "998  347-56-2442      A        CT1        Normal    Male          PD3   \n",
       "999  849-09-3807      A        CT1        Member  Female          PD6   \n",
       "\n",
       "     Unit price  Quantity   Tax 5%      Total       Date      Time  \\\n",
       "0         74.69         7  26.1415   548.9715 2019-01-05  13:08:00   \n",
       "1         15.28         5   3.8200    80.2200 2019-03-08  10:29:00   \n",
       "2         46.33         7  16.2155   340.5255 2019-03-03  13:23:00   \n",
       "3         58.22         8  23.2880   489.0480 2019-01-27  20:33:00   \n",
       "4         86.31         7  30.2085   634.3785 2019-02-08  10:37:00   \n",
       "..          ...       ...      ...        ...        ...       ...   \n",
       "995       40.35         1   2.0175    42.3675 2019-01-29  13:46:00   \n",
       "996       97.38        10  48.6900  1022.4900 2019-03-02  17:16:00   \n",
       "997       31.84         1   1.5920    33.4320 2019-02-09  13:22:00   \n",
       "998       65.82         1   3.2910    69.1110 2019-02-22  15:33:00   \n",
       "999       88.34         7  30.9190   649.2990 2019-02-18  13:28:00   \n",
       "\n",
       "         Payment    cogs  gross margin percentage  gross income  Rating  \\\n",
       "0        Ewallet  522.83                 4.761905       26.1415     9.1   \n",
       "1           Cash   76.40                 4.761905        3.8200     9.6   \n",
       "2    Credit card  324.31                 4.761905       16.2155     7.4   \n",
       "3        Ewallet  465.76                 4.761905       23.2880     8.4   \n",
       "4        Ewallet  604.17                 4.761905       30.2085     5.3   \n",
       "..           ...     ...                      ...           ...     ...   \n",
       "995      Ewallet   40.35                 4.761905        2.0175     6.2   \n",
       "996      Ewallet  973.80                 4.761905       48.6900     4.4   \n",
       "997         Cash   31.84                 4.761905        1.5920     7.7   \n",
       "998         Cash   65.82                 4.761905        3.2910     4.1   \n",
       "999         Cash  618.38                 4.761905       30.9190     6.6   \n",
       "\n",
       "     weekdays  \n",
       "0    Saturday  \n",
       "1      Friday  \n",
       "2      Sunday  \n",
       "3      Sunday  \n",
       "4      Friday  \n",
       "..        ...  \n",
       "995   Tuesday  \n",
       "996  Saturday  \n",
       "997  Saturday  \n",
       "998    Friday  \n",
       "999    Monday  \n",
       "\n",
       "[1000 rows x 18 columns]"
      ]
     },
     "execution_count": 22,
     "metadata": {},
     "output_type": "execute_result"
    }
   ],
   "source": [
    "# We need weekday column for analysis\n",
    "\n",
    "#Adding weekday column from date column\n",
    "\n",
    "df['weekdays'] = df['Date'].dt.day_name()\n",
    "\n",
    "df"
   ]
  },
  {
   "cell_type": "code",
   "execution_count": 23,
   "id": "20b413a7",
   "metadata": {},
   "outputs": [
    {
     "data": {
      "text/html": [
       "<div>\n",
       "<style scoped>\n",
       "    .dataframe tbody tr th:only-of-type {\n",
       "        vertical-align: middle;\n",
       "    }\n",
       "\n",
       "    .dataframe tbody tr th {\n",
       "        vertical-align: top;\n",
       "    }\n",
       "\n",
       "    .dataframe thead th {\n",
       "        text-align: right;\n",
       "    }\n",
       "</style>\n",
       "<table border=\"1\" class=\"dataframe\">\n",
       "  <thead>\n",
       "    <tr style=\"text-align: right;\">\n",
       "      <th></th>\n",
       "      <th>Invoice ID</th>\n",
       "      <th>Branch</th>\n",
       "      <th>city code</th>\n",
       "      <th>Customer type</th>\n",
       "      <th>Gender</th>\n",
       "      <th>Product code</th>\n",
       "      <th>Unit price</th>\n",
       "      <th>Quantity</th>\n",
       "      <th>Tax 5%</th>\n",
       "      <th>Total</th>\n",
       "      <th>Date</th>\n",
       "      <th>Time</th>\n",
       "      <th>Payment</th>\n",
       "      <th>cogs</th>\n",
       "      <th>gross margin percentage</th>\n",
       "      <th>gross income</th>\n",
       "      <th>Rating</th>\n",
       "      <th>weekdays</th>\n",
       "      <th>Month</th>\n",
       "    </tr>\n",
       "  </thead>\n",
       "  <tbody>\n",
       "    <tr>\n",
       "      <th>0</th>\n",
       "      <td>750-67-8428</td>\n",
       "      <td>A</td>\n",
       "      <td>CT1</td>\n",
       "      <td>Member</td>\n",
       "      <td>Female</td>\n",
       "      <td>PD1</td>\n",
       "      <td>74.69</td>\n",
       "      <td>7</td>\n",
       "      <td>26.1415</td>\n",
       "      <td>548.9715</td>\n",
       "      <td>2019-01-05</td>\n",
       "      <td>13:08:00</td>\n",
       "      <td>Ewallet</td>\n",
       "      <td>522.83</td>\n",
       "      <td>4.761905</td>\n",
       "      <td>26.1415</td>\n",
       "      <td>9.1</td>\n",
       "      <td>Saturday</td>\n",
       "      <td>January</td>\n",
       "    </tr>\n",
       "    <tr>\n",
       "      <th>1</th>\n",
       "      <td>226-31-3081</td>\n",
       "      <td>C</td>\n",
       "      <td>CT3</td>\n",
       "      <td>Normal</td>\n",
       "      <td>Female</td>\n",
       "      <td>PD2</td>\n",
       "      <td>15.28</td>\n",
       "      <td>5</td>\n",
       "      <td>3.8200</td>\n",
       "      <td>80.2200</td>\n",
       "      <td>2019-03-08</td>\n",
       "      <td>10:29:00</td>\n",
       "      <td>Cash</td>\n",
       "      <td>76.40</td>\n",
       "      <td>4.761905</td>\n",
       "      <td>3.8200</td>\n",
       "      <td>9.6</td>\n",
       "      <td>Friday</td>\n",
       "      <td>March</td>\n",
       "    </tr>\n",
       "    <tr>\n",
       "      <th>2</th>\n",
       "      <td>631-41-3108</td>\n",
       "      <td>A</td>\n",
       "      <td>CT1</td>\n",
       "      <td>Normal</td>\n",
       "      <td>Male</td>\n",
       "      <td>PD3</td>\n",
       "      <td>46.33</td>\n",
       "      <td>7</td>\n",
       "      <td>16.2155</td>\n",
       "      <td>340.5255</td>\n",
       "      <td>2019-03-03</td>\n",
       "      <td>13:23:00</td>\n",
       "      <td>Credit card</td>\n",
       "      <td>324.31</td>\n",
       "      <td>4.761905</td>\n",
       "      <td>16.2155</td>\n",
       "      <td>7.4</td>\n",
       "      <td>Sunday</td>\n",
       "      <td>March</td>\n",
       "    </tr>\n",
       "    <tr>\n",
       "      <th>3</th>\n",
       "      <td>123-19-1176</td>\n",
       "      <td>A</td>\n",
       "      <td>CT1</td>\n",
       "      <td>Member</td>\n",
       "      <td>Male</td>\n",
       "      <td>PD1</td>\n",
       "      <td>58.22</td>\n",
       "      <td>8</td>\n",
       "      <td>23.2880</td>\n",
       "      <td>489.0480</td>\n",
       "      <td>2019-01-27</td>\n",
       "      <td>20:33:00</td>\n",
       "      <td>Ewallet</td>\n",
       "      <td>465.76</td>\n",
       "      <td>4.761905</td>\n",
       "      <td>23.2880</td>\n",
       "      <td>8.4</td>\n",
       "      <td>Sunday</td>\n",
       "      <td>January</td>\n",
       "    </tr>\n",
       "    <tr>\n",
       "      <th>4</th>\n",
       "      <td>373-73-7910</td>\n",
       "      <td>A</td>\n",
       "      <td>CT1</td>\n",
       "      <td>Normal</td>\n",
       "      <td>Male</td>\n",
       "      <td>PD4</td>\n",
       "      <td>86.31</td>\n",
       "      <td>7</td>\n",
       "      <td>30.2085</td>\n",
       "      <td>634.3785</td>\n",
       "      <td>2019-02-08</td>\n",
       "      <td>10:37:00</td>\n",
       "      <td>Ewallet</td>\n",
       "      <td>604.17</td>\n",
       "      <td>4.761905</td>\n",
       "      <td>30.2085</td>\n",
       "      <td>5.3</td>\n",
       "      <td>Friday</td>\n",
       "      <td>February</td>\n",
       "    </tr>\n",
       "    <tr>\n",
       "      <th>...</th>\n",
       "      <td>...</td>\n",
       "      <td>...</td>\n",
       "      <td>...</td>\n",
       "      <td>...</td>\n",
       "      <td>...</td>\n",
       "      <td>...</td>\n",
       "      <td>...</td>\n",
       "      <td>...</td>\n",
       "      <td>...</td>\n",
       "      <td>...</td>\n",
       "      <td>...</td>\n",
       "      <td>...</td>\n",
       "      <td>...</td>\n",
       "      <td>...</td>\n",
       "      <td>...</td>\n",
       "      <td>...</td>\n",
       "      <td>...</td>\n",
       "      <td>...</td>\n",
       "      <td>...</td>\n",
       "    </tr>\n",
       "    <tr>\n",
       "      <th>995</th>\n",
       "      <td>233-67-5758</td>\n",
       "      <td>C</td>\n",
       "      <td>CT3</td>\n",
       "      <td>Normal</td>\n",
       "      <td>Male</td>\n",
       "      <td>PD1</td>\n",
       "      <td>40.35</td>\n",
       "      <td>1</td>\n",
       "      <td>2.0175</td>\n",
       "      <td>42.3675</td>\n",
       "      <td>2019-01-29</td>\n",
       "      <td>13:46:00</td>\n",
       "      <td>Ewallet</td>\n",
       "      <td>40.35</td>\n",
       "      <td>4.761905</td>\n",
       "      <td>2.0175</td>\n",
       "      <td>6.2</td>\n",
       "      <td>Tuesday</td>\n",
       "      <td>January</td>\n",
       "    </tr>\n",
       "    <tr>\n",
       "      <th>996</th>\n",
       "      <td>303-96-2227</td>\n",
       "      <td>B</td>\n",
       "      <td>CT9</td>\n",
       "      <td>Normal</td>\n",
       "      <td>Female</td>\n",
       "      <td>PD3</td>\n",
       "      <td>97.38</td>\n",
       "      <td>10</td>\n",
       "      <td>48.6900</td>\n",
       "      <td>1022.4900</td>\n",
       "      <td>2019-03-02</td>\n",
       "      <td>17:16:00</td>\n",
       "      <td>Ewallet</td>\n",
       "      <td>973.80</td>\n",
       "      <td>4.761905</td>\n",
       "      <td>48.6900</td>\n",
       "      <td>4.4</td>\n",
       "      <td>Saturday</td>\n",
       "      <td>March</td>\n",
       "    </tr>\n",
       "    <tr>\n",
       "      <th>997</th>\n",
       "      <td>727-02-1313</td>\n",
       "      <td>A</td>\n",
       "      <td>CT1</td>\n",
       "      <td>Member</td>\n",
       "      <td>Male</td>\n",
       "      <td>PD5</td>\n",
       "      <td>31.84</td>\n",
       "      <td>1</td>\n",
       "      <td>1.5920</td>\n",
       "      <td>33.4320</td>\n",
       "      <td>2019-02-09</td>\n",
       "      <td>13:22:00</td>\n",
       "      <td>Cash</td>\n",
       "      <td>31.84</td>\n",
       "      <td>4.761905</td>\n",
       "      <td>1.5920</td>\n",
       "      <td>7.7</td>\n",
       "      <td>Saturday</td>\n",
       "      <td>February</td>\n",
       "    </tr>\n",
       "    <tr>\n",
       "      <th>998</th>\n",
       "      <td>347-56-2442</td>\n",
       "      <td>A</td>\n",
       "      <td>CT1</td>\n",
       "      <td>Normal</td>\n",
       "      <td>Male</td>\n",
       "      <td>PD3</td>\n",
       "      <td>65.82</td>\n",
       "      <td>1</td>\n",
       "      <td>3.2910</td>\n",
       "      <td>69.1110</td>\n",
       "      <td>2019-02-22</td>\n",
       "      <td>15:33:00</td>\n",
       "      <td>Cash</td>\n",
       "      <td>65.82</td>\n",
       "      <td>4.761905</td>\n",
       "      <td>3.2910</td>\n",
       "      <td>4.1</td>\n",
       "      <td>Friday</td>\n",
       "      <td>February</td>\n",
       "    </tr>\n",
       "    <tr>\n",
       "      <th>999</th>\n",
       "      <td>849-09-3807</td>\n",
       "      <td>A</td>\n",
       "      <td>CT1</td>\n",
       "      <td>Member</td>\n",
       "      <td>Female</td>\n",
       "      <td>PD6</td>\n",
       "      <td>88.34</td>\n",
       "      <td>7</td>\n",
       "      <td>30.9190</td>\n",
       "      <td>649.2990</td>\n",
       "      <td>2019-02-18</td>\n",
       "      <td>13:28:00</td>\n",
       "      <td>Cash</td>\n",
       "      <td>618.38</td>\n",
       "      <td>4.761905</td>\n",
       "      <td>30.9190</td>\n",
       "      <td>6.6</td>\n",
       "      <td>Monday</td>\n",
       "      <td>February</td>\n",
       "    </tr>\n",
       "  </tbody>\n",
       "</table>\n",
       "<p>1000 rows × 19 columns</p>\n",
       "</div>"
      ],
      "text/plain": [
       "      Invoice ID Branch city code  Customer type  Gender Product code  \\\n",
       "0    750-67-8428      A        CT1        Member  Female          PD1   \n",
       "1    226-31-3081      C        CT3        Normal  Female          PD2   \n",
       "2    631-41-3108      A        CT1        Normal    Male          PD3   \n",
       "3    123-19-1176      A        CT1        Member    Male          PD1   \n",
       "4    373-73-7910      A        CT1        Normal    Male          PD4   \n",
       "..           ...    ...        ...           ...     ...          ...   \n",
       "995  233-67-5758      C        CT3        Normal    Male          PD1   \n",
       "996  303-96-2227      B        CT9        Normal  Female          PD3   \n",
       "997  727-02-1313      A        CT1        Member    Male          PD5   \n",
       "998  347-56-2442      A        CT1        Normal    Male          PD3   \n",
       "999  849-09-3807      A        CT1        Member  Female          PD6   \n",
       "\n",
       "     Unit price  Quantity   Tax 5%      Total       Date      Time  \\\n",
       "0         74.69         7  26.1415   548.9715 2019-01-05  13:08:00   \n",
       "1         15.28         5   3.8200    80.2200 2019-03-08  10:29:00   \n",
       "2         46.33         7  16.2155   340.5255 2019-03-03  13:23:00   \n",
       "3         58.22         8  23.2880   489.0480 2019-01-27  20:33:00   \n",
       "4         86.31         7  30.2085   634.3785 2019-02-08  10:37:00   \n",
       "..          ...       ...      ...        ...        ...       ...   \n",
       "995       40.35         1   2.0175    42.3675 2019-01-29  13:46:00   \n",
       "996       97.38        10  48.6900  1022.4900 2019-03-02  17:16:00   \n",
       "997       31.84         1   1.5920    33.4320 2019-02-09  13:22:00   \n",
       "998       65.82         1   3.2910    69.1110 2019-02-22  15:33:00   \n",
       "999       88.34         7  30.9190   649.2990 2019-02-18  13:28:00   \n",
       "\n",
       "         Payment    cogs  gross margin percentage  gross income  Rating  \\\n",
       "0        Ewallet  522.83                 4.761905       26.1415     9.1   \n",
       "1           Cash   76.40                 4.761905        3.8200     9.6   \n",
       "2    Credit card  324.31                 4.761905       16.2155     7.4   \n",
       "3        Ewallet  465.76                 4.761905       23.2880     8.4   \n",
       "4        Ewallet  604.17                 4.761905       30.2085     5.3   \n",
       "..           ...     ...                      ...           ...     ...   \n",
       "995      Ewallet   40.35                 4.761905        2.0175     6.2   \n",
       "996      Ewallet  973.80                 4.761905       48.6900     4.4   \n",
       "997         Cash   31.84                 4.761905        1.5920     7.7   \n",
       "998         Cash   65.82                 4.761905        3.2910     4.1   \n",
       "999         Cash  618.38                 4.761905       30.9190     6.6   \n",
       "\n",
       "     weekdays     Month  \n",
       "0    Saturday   January  \n",
       "1      Friday     March  \n",
       "2      Sunday     March  \n",
       "3      Sunday   January  \n",
       "4      Friday  February  \n",
       "..        ...       ...  \n",
       "995   Tuesday   January  \n",
       "996  Saturday     March  \n",
       "997  Saturday  February  \n",
       "998    Friday  February  \n",
       "999    Monday  February  \n",
       "\n",
       "[1000 rows x 19 columns]"
      ]
     },
     "execution_count": 23,
     "metadata": {},
     "output_type": "execute_result"
    }
   ],
   "source": [
    "#adding month column to dataset by extracting it from Date column\n",
    "\n",
    "df['Month'] = df['Date'].dt.month_name()\n",
    "\n",
    "df"
   ]
  },
  {
   "cell_type": "code",
   "execution_count": 24,
   "id": "e491e931",
   "metadata": {},
   "outputs": [],
   "source": [
    "#replacing product code to product line\n",
    "\n",
    "replace_values={'PD1':'Health and beauty', 'PD2':'Electronic accessories', 'PD3':'Home and lifestyle', \n",
    "                'PD4':'Sports and travel', 'PD5':'Food and beverages','PD6':'Fashion accessories'}\n",
    "\n",
    "df.replace({\"Product code\": replace_values}, inplace = True) "
   ]
  },
  {
   "cell_type": "code",
   "execution_count": 25,
   "id": "8203cc03",
   "metadata": {},
   "outputs": [],
   "source": [
    "#renaming product code columns\n",
    "\n",
    "df.rename(columns = {'Product code':'Product_line'}, inplace = True)"
   ]
  },
  {
   "cell_type": "code",
   "execution_count": 26,
   "id": "6ad97d2c",
   "metadata": {},
   "outputs": [
    {
     "data": {
      "text/html": [
       "<div>\n",
       "<style scoped>\n",
       "    .dataframe tbody tr th:only-of-type {\n",
       "        vertical-align: middle;\n",
       "    }\n",
       "\n",
       "    .dataframe tbody tr th {\n",
       "        vertical-align: top;\n",
       "    }\n",
       "\n",
       "    .dataframe thead th {\n",
       "        text-align: right;\n",
       "    }\n",
       "</style>\n",
       "<table border=\"1\" class=\"dataframe\">\n",
       "  <thead>\n",
       "    <tr style=\"text-align: right;\">\n",
       "      <th></th>\n",
       "      <th>Invoice ID</th>\n",
       "      <th>Branch</th>\n",
       "      <th>city code</th>\n",
       "      <th>Customer type</th>\n",
       "      <th>Gender</th>\n",
       "      <th>Product_line</th>\n",
       "      <th>Unit price</th>\n",
       "      <th>Quantity</th>\n",
       "      <th>Tax 5%</th>\n",
       "      <th>Total</th>\n",
       "      <th>Date</th>\n",
       "      <th>Time</th>\n",
       "      <th>Payment</th>\n",
       "      <th>cogs</th>\n",
       "      <th>gross margin percentage</th>\n",
       "      <th>gross income</th>\n",
       "      <th>Rating</th>\n",
       "      <th>weekdays</th>\n",
       "      <th>Month</th>\n",
       "    </tr>\n",
       "  </thead>\n",
       "  <tbody>\n",
       "    <tr>\n",
       "      <th>0</th>\n",
       "      <td>750-67-8428</td>\n",
       "      <td>A</td>\n",
       "      <td>CT1</td>\n",
       "      <td>Member</td>\n",
       "      <td>Female</td>\n",
       "      <td>Health and beauty</td>\n",
       "      <td>74.69</td>\n",
       "      <td>7</td>\n",
       "      <td>26.1415</td>\n",
       "      <td>548.9715</td>\n",
       "      <td>2019-01-05</td>\n",
       "      <td>13:08:00</td>\n",
       "      <td>Ewallet</td>\n",
       "      <td>522.83</td>\n",
       "      <td>4.761905</td>\n",
       "      <td>26.1415</td>\n",
       "      <td>9.1</td>\n",
       "      <td>Saturday</td>\n",
       "      <td>January</td>\n",
       "    </tr>\n",
       "    <tr>\n",
       "      <th>1</th>\n",
       "      <td>226-31-3081</td>\n",
       "      <td>C</td>\n",
       "      <td>CT3</td>\n",
       "      <td>Normal</td>\n",
       "      <td>Female</td>\n",
       "      <td>Electronic accessories</td>\n",
       "      <td>15.28</td>\n",
       "      <td>5</td>\n",
       "      <td>3.8200</td>\n",
       "      <td>80.2200</td>\n",
       "      <td>2019-03-08</td>\n",
       "      <td>10:29:00</td>\n",
       "      <td>Cash</td>\n",
       "      <td>76.40</td>\n",
       "      <td>4.761905</td>\n",
       "      <td>3.8200</td>\n",
       "      <td>9.6</td>\n",
       "      <td>Friday</td>\n",
       "      <td>March</td>\n",
       "    </tr>\n",
       "    <tr>\n",
       "      <th>2</th>\n",
       "      <td>631-41-3108</td>\n",
       "      <td>A</td>\n",
       "      <td>CT1</td>\n",
       "      <td>Normal</td>\n",
       "      <td>Male</td>\n",
       "      <td>Home and lifestyle</td>\n",
       "      <td>46.33</td>\n",
       "      <td>7</td>\n",
       "      <td>16.2155</td>\n",
       "      <td>340.5255</td>\n",
       "      <td>2019-03-03</td>\n",
       "      <td>13:23:00</td>\n",
       "      <td>Credit card</td>\n",
       "      <td>324.31</td>\n",
       "      <td>4.761905</td>\n",
       "      <td>16.2155</td>\n",
       "      <td>7.4</td>\n",
       "      <td>Sunday</td>\n",
       "      <td>March</td>\n",
       "    </tr>\n",
       "    <tr>\n",
       "      <th>3</th>\n",
       "      <td>123-19-1176</td>\n",
       "      <td>A</td>\n",
       "      <td>CT1</td>\n",
       "      <td>Member</td>\n",
       "      <td>Male</td>\n",
       "      <td>Health and beauty</td>\n",
       "      <td>58.22</td>\n",
       "      <td>8</td>\n",
       "      <td>23.2880</td>\n",
       "      <td>489.0480</td>\n",
       "      <td>2019-01-27</td>\n",
       "      <td>20:33:00</td>\n",
       "      <td>Ewallet</td>\n",
       "      <td>465.76</td>\n",
       "      <td>4.761905</td>\n",
       "      <td>23.2880</td>\n",
       "      <td>8.4</td>\n",
       "      <td>Sunday</td>\n",
       "      <td>January</td>\n",
       "    </tr>\n",
       "    <tr>\n",
       "      <th>4</th>\n",
       "      <td>373-73-7910</td>\n",
       "      <td>A</td>\n",
       "      <td>CT1</td>\n",
       "      <td>Normal</td>\n",
       "      <td>Male</td>\n",
       "      <td>Sports and travel</td>\n",
       "      <td>86.31</td>\n",
       "      <td>7</td>\n",
       "      <td>30.2085</td>\n",
       "      <td>634.3785</td>\n",
       "      <td>2019-02-08</td>\n",
       "      <td>10:37:00</td>\n",
       "      <td>Ewallet</td>\n",
       "      <td>604.17</td>\n",
       "      <td>4.761905</td>\n",
       "      <td>30.2085</td>\n",
       "      <td>5.3</td>\n",
       "      <td>Friday</td>\n",
       "      <td>February</td>\n",
       "    </tr>\n",
       "  </tbody>\n",
       "</table>\n",
       "</div>"
      ],
      "text/plain": [
       "    Invoice ID Branch city code  Customer type  Gender  \\\n",
       "0  750-67-8428      A        CT1        Member  Female   \n",
       "1  226-31-3081      C        CT3        Normal  Female   \n",
       "2  631-41-3108      A        CT1        Normal    Male   \n",
       "3  123-19-1176      A        CT1        Member    Male   \n",
       "4  373-73-7910      A        CT1        Normal    Male   \n",
       "\n",
       "             Product_line  Unit price  Quantity   Tax 5%     Total       Date  \\\n",
       "0       Health and beauty       74.69         7  26.1415  548.9715 2019-01-05   \n",
       "1  Electronic accessories       15.28         5   3.8200   80.2200 2019-03-08   \n",
       "2      Home and lifestyle       46.33         7  16.2155  340.5255 2019-03-03   \n",
       "3       Health and beauty       58.22         8  23.2880  489.0480 2019-01-27   \n",
       "4       Sports and travel       86.31         7  30.2085  634.3785 2019-02-08   \n",
       "\n",
       "       Time      Payment    cogs  gross margin percentage  gross income  \\\n",
       "0  13:08:00      Ewallet  522.83                 4.761905       26.1415   \n",
       "1  10:29:00         Cash   76.40                 4.761905        3.8200   \n",
       "2  13:23:00  Credit card  324.31                 4.761905       16.2155   \n",
       "3  20:33:00      Ewallet  465.76                 4.761905       23.2880   \n",
       "4  10:37:00      Ewallet  604.17                 4.761905       30.2085   \n",
       "\n",
       "   Rating  weekdays     Month  \n",
       "0     9.1  Saturday   January  \n",
       "1     9.6    Friday     March  \n",
       "2     7.4    Sunday     March  \n",
       "3     8.4    Sunday   January  \n",
       "4     5.3    Friday  February  "
      ]
     },
     "execution_count": 26,
     "metadata": {},
     "output_type": "execute_result"
    }
   ],
   "source": [
    "df.head()"
   ]
  },
  {
   "cell_type": "code",
   "execution_count": 27,
   "id": "568387a0",
   "metadata": {},
   "outputs": [
    {
     "data": {
      "image/png": "[encoded data removed]",
      "text/plain": [
       "<Figure size 432x288 with 1 Axes>"
      ]
     },
     "metadata": {
      "needs_background": "light"
     },
     "output_type": "display_data"
    }
   ],
   "source": [
    "#plotting countplot against branch to know difference in branch count\n",
    "\n",
    "sns.countplot(x = 'Branch', data = df, palette = \"magma\")\n",
    "\n",
    "plt.title(\"Branch count\")\n",
    "\n",
    "plt.show()"
   ]
  },
  {
   "cell_type": "markdown",
   "id": "728617e0",
   "metadata": {},
   "source": [
    "The number of branches are almost equal."
   ]
  },
  {
   "cell_type": "code",
   "execution_count": 28,
   "id": "14df70f6",
   "metadata": {},
   "outputs": [
    {
     "data": {
      "image/png": "[encoded data removed]",
      "text/plain": [
       "<Figure size 432x288 with 1 Axes>"
      ]
     },
     "metadata": {
      "needs_background": "light"
     },
     "output_type": "display_data"
    }
   ],
   "source": [
    "# plotting countplot against gender to see the difference in gender count\n",
    "sns.countplot(x = 'Gender', data = df, palette = 'viridis')\n",
    "\n",
    "plt.title(\"Gender count\")\n",
    "\n",
    "plt.show()"
   ]
  },
  {
   "cell_type": "markdown",
   "id": "97166dec",
   "metadata": {},
   "source": [
    "There is not much difference in male and female."
   ]
  },
  {
   "cell_type": "code",
   "execution_count": 29,
   "id": "231d9ced",
   "metadata": {},
   "outputs": [
    {
     "data": {
      "image/png": "[encoded data removed]",
      "text/plain": [
       "<Figure size 504x432 with 1 Axes>"
      ]
     },
     "metadata": {
      "needs_background": "light"
     },
     "output_type": "display_data"
    }
   ],
   "source": [
    "#plotting countplot against customertype and hue as gender to understand relationship between gender and customertype\n",
    "\n",
    "plt.figure(figsize=(7,6))\n",
    "\n",
    "sns.countplot(x = 'Customer type', data = df, hue = 'Gender', palette = \"magma\")\n",
    "\n",
    "plt.title(\"customertype and gender relation\")\n",
    "\n",
    "plt.legend(loc = 0)\n",
    "\n",
    "plt.show()"
   ]
  },
  {
   "cell_type": "markdown",
   "id": "8a3eddfe",
   "metadata": {},
   "source": [
    "there is a noticeable difference between male and female population of each category. However we can understand that the total number of population in each catgory is equal."
   ]
  },
  {
   "cell_type": "code",
   "execution_count": 30,
   "id": "30da79d7",
   "metadata": {},
   "outputs": [
    {
     "data": {
      "image/png": "[encoded data removed]",
      "text/plain": [
       "<Figure size 432x288 with 1 Axes>"
      ]
     },
     "metadata": {
      "needs_background": "light"
     },
     "output_type": "display_data"
    }
   ],
   "source": [
    "#plotting barplot to determine gender role in rating\n",
    "\n",
    "sns.barplot( x = 'Gender', y = 'Rating', data = df)\n",
    "\n",
    "plt.title('Gender role in rating')\n",
    "\n",
    "plt.show()"
   ]
  },
  {
   "cell_type": "markdown",
   "id": "cc4eaf75",
   "metadata": {},
   "source": [
    "Both female and male placing equal role in rating."
   ]
  },
  {
   "cell_type": "code",
   "execution_count": 31,
   "id": "8dcedc88",
   "metadata": {},
   "outputs": [
    {
     "data": {
      "image/png": "[encoded data removed]",
      "text/plain": [
       "<Figure size 1440x360 with 1 Axes>"
      ]
     },
     "metadata": {
      "needs_background": "light"
     },
     "output_type": "display_data"
    }
   ],
   "source": [
    "#plotting barplot to detemine unitprice of each productline\n",
    "\n",
    "plt.figure(figsize = (20,5))\n",
    "\n",
    "sns.barplot(x = 'Product_line',y = 'Unit price', data = df, palette = 'viridis')\n",
    "\n",
    "plt.title('unitprice against productline')\n",
    "\n",
    "plt.show()"
   ]
  },
  {
   "cell_type": "markdown",
   "id": "d716043b",
   "metadata": {},
   "source": [
    "The unitprice against all product is nearly same."
   ]
  },
  {
   "cell_type": "code",
   "execution_count": 32,
   "id": "30f133b3",
   "metadata": {},
   "outputs": [
    {
     "data": {
      "image/png": "[encoded data removed]",
      "text/plain": [
       "<Figure size 1440x360 with 1 Axes>"
      ]
     },
     "metadata": {
      "needs_background": "light"
     },
     "output_type": "display_data"
    }
   ],
   "source": [
    "#plotting barplot to detemine rating of each productline\n",
    "\n",
    "plt.figure(figsize = (20,5))\n",
    "\n",
    "sns.barplot(x = 'Product_line',y = 'Rating', data = df, palette = 'rocket')\n",
    "\n",
    "plt.title('Rating against productline')\n",
    "\n",
    "plt.show()"
   ]
  },
  {
   "cell_type": "markdown",
   "id": "4c650768",
   "metadata": {},
   "source": [
    "The Rating of all products nearly same."
   ]
  },
  {
   "cell_type": "code",
   "execution_count": 33,
   "id": "ea183884",
   "metadata": {},
   "outputs": [
    {
     "data": {
      "image/png": "[encoded data removed]",
      "text/plain": [
       "<Figure size 720x432 with 1 Axes>"
      ]
     },
     "metadata": {
      "needs_background": "light"
     },
     "output_type": "display_data"
    }
   ],
   "source": [
    "# As rating is similar we can use quantity of products\n",
    "\n",
    "#here we are plotting boxplot to get the average quantity of products\n",
    "\n",
    "plt.figure(figsize = (10,6))\n",
    "\n",
    "sns.boxenplot(y = 'Product_line', x = 'Quantity', data = df, palette = 'viridis' )\n",
    "\n",
    "plt.title(\"quantity purchased of each products\")\n",
    "\n",
    "plt.show()"
   ]
  },
  {
   "cell_type": "markdown",
   "id": "ad8b1fff",
   "metadata": {},
   "source": [
    "'Eventhough the rating for ‘fashion accessories’ and ‘food and beverages’ is high but quantity purchased is low. Hence, supply for these products need to be increased.'"
   ]
  },
  {
   "cell_type": "code",
   "execution_count": 34,
   "id": "46e9a53f",
   "metadata": {},
   "outputs": [
    {
     "data": {
      "image/png": "[encoded data removed]",
      "text/plain": [
       "<Figure size 720x360 with 1 Axes>"
      ]
     },
     "metadata": {
      "needs_background": "light"
     },
     "output_type": "display_data"
    }
   ],
   "source": [
    "#plotting countplot to determine payment count in each Branch\n",
    "\n",
    "plt.figure(figsize = (10,5))\n",
    "\n",
    "sns.countplot(x = 'Payment', data = df, hue = 'Branch',palette = 'rocket')\n",
    "\n",
    "plt.title('payment mode in each city')\n",
    "\n",
    "plt.legend(loc = 0)\n",
    "\n",
    "plt.show()"
   ]
  },
  {
   "cell_type": "markdown",
   "id": "3ba86923",
   "metadata": {},
   "source": [
    "people use credit card less often than other options but the usage is still strongly comparable."
   ]
  },
  {
   "cell_type": "code",
   "execution_count": 35,
   "id": "e97426df",
   "metadata": {},
   "outputs": [
    {
     "data": {
      "image/png": "[encoded data removed]",
      "text/plain": [
       "<Figure size 432x288 with 1 Axes>"
      ]
     },
     "metadata": {
      "needs_background": "light"
     },
     "output_type": "display_data"
    }
   ],
   "source": [
    "#plotting barplot to understand relationship between payment and rating\n",
    "\n",
    "sns.barplot(x = 'Payment', y = 'Rating', data = df, palette = 'magma')\n",
    "\n",
    "plt.title('payment against rating')\n",
    "\n",
    "plt.show()"
   ]
  },
  {
   "cell_type": "markdown",
   "id": "c65a14cf",
   "metadata": {},
   "source": [
    "There is no noticeable change in rating against payment."
   ]
  },
  {
   "cell_type": "code",
   "execution_count": 36,
   "id": "5014ac76",
   "metadata": {},
   "outputs": [
    {
     "data": {
      "image/png": "[encoded data removed]",
      "text/plain": [
       "<Figure size 864x576 with 1 Axes>"
      ]
     },
     "metadata": {
      "needs_background": "light"
     },
     "output_type": "display_data"
    }
   ],
   "source": [
    "#plotting countplot of productline and gender to check the spending pattern \n",
    "\n",
    "plt.figure(figsize=(12, 8))\n",
    "\n",
    "plt.title('Total Monthly transaction by Gender')\n",
    "\n",
    "sns.countplot(x = 'Product_line', data = df, hue = 'Gender' )\n",
    "\n",
    "plt.xticks(rotation='vertical',size=10)\n",
    "\n",
    "plt.legend(loc = 0)\n",
    "\n",
    "plt.show()\n"
   ]
  },
  {
   "cell_type": "markdown",
   "id": "31853775",
   "metadata": {},
   "source": [
    "'''Females spend on 'fashion accessories' the most and for males it is 'Health and beauty'.'''"
   ]
  },
  {
   "cell_type": "code",
   "execution_count": 37,
   "id": "02042f53",
   "metadata": {},
   "outputs": [
    {
     "data": {
      "image/png": "[encoded data removed]",
      "text/plain": [
       "<Figure size 576x432 with 1 Axes>"
      ]
     },
     "metadata": {
      "needs_background": "light"
     },
     "output_type": "display_data"
    }
   ],
   "source": [
    "#plotting countplot to check which week has maximum sales\n",
    "\n",
    "plt.figure(figsize=(8, 6))\n",
    "\n",
    "plt.title('Daily Sales by Day of the Week')\n",
    "\n",
    "sns.countplot(x = 'weekdays', data = df, palette = 'magma')\n",
    "\n",
    "plt.show()"
   ]
  },
  {
   "cell_type": "markdown",
   "id": "678eb2f7",
   "metadata": {},
   "source": [
    "'Sales are highest on Saturdays probably because it is the weekend. Interestingly,Tuesdays are close second.Mondays are the lowest in sales, probably because it is start of the working week.'"
   ]
  },
  {
   "cell_type": "code",
   "execution_count": 38,
   "id": "36ee9466",
   "metadata": {},
   "outputs": [
    {
     "data": {
      "image/png": "[encoded data removed]",
      "text/plain": [
       "<Figure size 576x504 with 1 Axes>"
      ]
     },
     "metadata": {
      "needs_background": "light"
     },
     "output_type": "display_data"
    }
   ],
   "source": [
    "#plotting barplot to check the grossincome across branches\n",
    "\n",
    "plt.figure(figsize=(8,7))\n",
    "\n",
    "sns.barplot(x = 'Branch', y = 'gross income', data = df)\n",
    "\n",
    "plt.title(\"gross income of a city\")\n",
    "\n",
    "plt.show()\n"
   ]
  },
  {
   "cell_type": "markdown",
   "id": "f41d0668",
   "metadata": {},
   "source": [
    "' Branch C represents Naypyitaw. So it is the most profitable city, hence the expansion plan should be based on this city.'"
   ]
  },
  {
   "cell_type": "code",
   "execution_count": 39,
   "id": "9a1b3e8c",
   "metadata": {},
   "outputs": [
    {
     "data": {
      "image/png": "[encoded data removed]",
      "text/plain": [
       "<Figure size 720x504 with 1 Axes>"
      ]
     },
     "metadata": {
      "needs_background": "light"
     },
     "output_type": "display_data"
    }
   ],
   "source": [
    "#plotting barplot to see the sales of products in particular branch\n",
    "\n",
    "plt.figure(figsize=(10,7))\n",
    "\n",
    "sns.countplot(y ='Product_line', hue = \"Branch\", data = df, palette = 'rocket') \n",
    "\n",
    "plt.show()"
   ]
  },
  {
   "cell_type": "markdown",
   "id": "45183392",
   "metadata": {},
   "source": [
    "'Fashion accessories and food and beverages are the most sold product in Naypyitaw and these products should be focused on for expansion. Home and lifestyle, sports and travel are the less sold products so we have to focus on theses products to increase the sales by giving some discounts'"
   ]
  },
  {
   "cell_type": "code",
   "execution_count": 40,
   "id": "9e2afeb3",
   "metadata": {},
   "outputs": [
    {
     "data": {
      "image/png": "[encoded data removed]",
      "text/plain": [
       "<Figure size 576x432 with 1 Axes>"
      ]
     },
     "metadata": {
      "needs_background": "light"
     },
     "output_type": "display_data"
    }
   ],
   "source": [
    "#plotting countplot to check sales among months\n",
    "\n",
    "plt.figure(figsize=(8, 6))\n",
    "\n",
    "plt.title('Sales by month')\n",
    "\n",
    "sns.countplot(x = 'Month', data = df, palette = 'magma')\n",
    "\n",
    "plt.show()"
   ]
  },
  {
   "cell_type": "markdown",
   "id": "aaf44bb3",
   "metadata": {},
   "source": [
    "Sales in February are noticebly smaller than other two months."
   ]
  },
  {
   "cell_type": "markdown",
   "id": "1c4a6ef9",
   "metadata": {},
   "source": [
    "### Datacleaning"
   ]
  },
  {
   "cell_type": "markdown",
   "id": "2f8ff0f7",
   "metadata": {},
   "source": [
    "In this dataset I'm considering Rating as my target variable. "
   ]
  },
  {
   "cell_type": "code",
   "execution_count": 41,
   "id": "be2a2903",
   "metadata": {},
   "outputs": [
    {
     "data": {
      "text/plain": [
       "array([[1.        , 0.63066645],\n",
       "       [0.63066645, 1.        ]])"
      ]
     },
     "execution_count": 41,
     "metadata": {},
     "output_type": "execute_result"
    }
   ],
   "source": [
    "#I'm going to find correlation between unitprice, total, quantity against tax\n",
    "\n",
    "np.corrcoef(df['Unit price'], df['Tax 5%'])"
   ]
  },
  {
   "cell_type": "code",
   "execution_count": 42,
   "id": "83304bb1",
   "metadata": {},
   "outputs": [
    {
     "data": {
      "text/plain": [
       "array([[1., 1.],\n",
       "       [1., 1.]])"
      ]
     },
     "execution_count": 42,
     "metadata": {},
     "output_type": "execute_result"
    }
   ],
   "source": [
    "np.corrcoef(df['Total'], df['Tax 5%'])"
   ]
  },
  {
   "cell_type": "code",
   "execution_count": 43,
   "id": "daf6fd01",
   "metadata": {},
   "outputs": [
    {
     "data": {
      "text/plain": [
       "array([[1.        , 0.70551019],\n",
       "       [0.70551019, 1.        ]])"
      ]
     },
     "execution_count": 43,
     "metadata": {},
     "output_type": "execute_result"
    }
   ],
   "source": [
    "np.corrcoef(df['Quantity'], df['Tax 5%'])"
   ]
  },
  {
   "cell_type": "code",
   "execution_count": 44,
   "id": "c80f34c9",
   "metadata": {},
   "outputs": [
    {
     "data": {
      "text/plain": [
       "array([[1., 1.],\n",
       "       [1., 1.]])"
      ]
     },
     "execution_count": 44,
     "metadata": {},
     "output_type": "execute_result"
    }
   ],
   "source": [
    "np.corrcoef(df['Total'], df['gross income'])"
   ]
  },
  {
   "cell_type": "markdown",
   "id": "964462c5",
   "metadata": {},
   "source": [
    "clearly, total and tax are perfectly correlated. same with total and gross income. we will drop tax, gross_income, columns before model training to avoid multi collenearity."
   ]
  },
  {
   "cell_type": "markdown",
   "id": "7f3fa64e",
   "metadata": {},
   "source": [
    "since ID is going to be unqiue for everyone and gross % is same for all, we will drop both of these columns"
   ]
  },
  {
   "cell_type": "code",
   "execution_count": 45,
   "id": "1a135f4a",
   "metadata": {},
   "outputs": [],
   "source": [
    "df.drop(['Invoice ID','gross margin percentage'], axis = 1, inplace = True)"
   ]
  },
  {
   "cell_type": "markdown",
   "id": "563c9eb3",
   "metadata": {},
   "source": [
    "we have already established that city code and branch are the same thing. we will be deleting city code. similarly, total, tax, gross income are perfectly correlated. we will be dropping tax and gross income. I'm dropping date, Time, month and weekend because they won't effect rating much."
   ]
  },
  {
   "cell_type": "code",
   "execution_count": 46,
   "id": "eaadb7ad",
   "metadata": {},
   "outputs": [],
   "source": [
    "df.drop(['Tax 5%','gross income','Date','Time','weekdays','Month'], axis = 1, inplace = True)"
   ]
  },
  {
   "cell_type": "markdown",
   "id": "fcc1d5c7",
   "metadata": {},
   "source": [
    "To drop city code I'm getting a key error so I'm keeping it."
   ]
  },
  {
   "cell_type": "code",
   "execution_count": 47,
   "id": "042b92e0",
   "metadata": {},
   "outputs": [
    {
     "data": {
      "text/html": [
       "<div>\n",
       "<style scoped>\n",
       "    .dataframe tbody tr th:only-of-type {\n",
       "        vertical-align: middle;\n",
       "    }\n",
       "\n",
       "    .dataframe tbody tr th {\n",
       "        vertical-align: top;\n",
       "    }\n",
       "\n",
       "    .dataframe thead th {\n",
       "        text-align: right;\n",
       "    }\n",
       "</style>\n",
       "<table border=\"1\" class=\"dataframe\">\n",
       "  <thead>\n",
       "    <tr style=\"text-align: right;\">\n",
       "      <th></th>\n",
       "      <th>Branch</th>\n",
       "      <th>city code</th>\n",
       "      <th>Customer type</th>\n",
       "      <th>Gender</th>\n",
       "      <th>Product_line</th>\n",
       "      <th>Unit price</th>\n",
       "      <th>Quantity</th>\n",
       "      <th>Total</th>\n",
       "      <th>Payment</th>\n",
       "      <th>cogs</th>\n",
       "      <th>Rating</th>\n",
       "    </tr>\n",
       "  </thead>\n",
       "  <tbody>\n",
       "    <tr>\n",
       "      <th>0</th>\n",
       "      <td>A</td>\n",
       "      <td>CT1</td>\n",
       "      <td>Member</td>\n",
       "      <td>Female</td>\n",
       "      <td>Health and beauty</td>\n",
       "      <td>74.69</td>\n",
       "      <td>7</td>\n",
       "      <td>548.9715</td>\n",
       "      <td>Ewallet</td>\n",
       "      <td>522.83</td>\n",
       "      <td>9.1</td>\n",
       "    </tr>\n",
       "    <tr>\n",
       "      <th>1</th>\n",
       "      <td>C</td>\n",
       "      <td>CT3</td>\n",
       "      <td>Normal</td>\n",
       "      <td>Female</td>\n",
       "      <td>Electronic accessories</td>\n",
       "      <td>15.28</td>\n",
       "      <td>5</td>\n",
       "      <td>80.2200</td>\n",
       "      <td>Cash</td>\n",
       "      <td>76.40</td>\n",
       "      <td>9.6</td>\n",
       "    </tr>\n",
       "    <tr>\n",
       "      <th>2</th>\n",
       "      <td>A</td>\n",
       "      <td>CT1</td>\n",
       "      <td>Normal</td>\n",
       "      <td>Male</td>\n",
       "      <td>Home and lifestyle</td>\n",
       "      <td>46.33</td>\n",
       "      <td>7</td>\n",
       "      <td>340.5255</td>\n",
       "      <td>Credit card</td>\n",
       "      <td>324.31</td>\n",
       "      <td>7.4</td>\n",
       "    </tr>\n",
       "    <tr>\n",
       "      <th>3</th>\n",
       "      <td>A</td>\n",
       "      <td>CT1</td>\n",
       "      <td>Member</td>\n",
       "      <td>Male</td>\n",
       "      <td>Health and beauty</td>\n",
       "      <td>58.22</td>\n",
       "      <td>8</td>\n",
       "      <td>489.0480</td>\n",
       "      <td>Ewallet</td>\n",
       "      <td>465.76</td>\n",
       "      <td>8.4</td>\n",
       "    </tr>\n",
       "    <tr>\n",
       "      <th>4</th>\n",
       "      <td>A</td>\n",
       "      <td>CT1</td>\n",
       "      <td>Normal</td>\n",
       "      <td>Male</td>\n",
       "      <td>Sports and travel</td>\n",
       "      <td>86.31</td>\n",
       "      <td>7</td>\n",
       "      <td>634.3785</td>\n",
       "      <td>Ewallet</td>\n",
       "      <td>604.17</td>\n",
       "      <td>5.3</td>\n",
       "    </tr>\n",
       "  </tbody>\n",
       "</table>\n",
       "</div>"
      ],
      "text/plain": [
       "  Branch city code  Customer type  Gender            Product_line  Unit price  \\\n",
       "0      A        CT1        Member  Female       Health and beauty       74.69   \n",
       "1      C        CT3        Normal  Female  Electronic accessories       15.28   \n",
       "2      A        CT1        Normal    Male      Home and lifestyle       46.33   \n",
       "3      A        CT1        Member    Male       Health and beauty       58.22   \n",
       "4      A        CT1        Normal    Male       Sports and travel       86.31   \n",
       "\n",
       "   Quantity     Total      Payment    cogs  Rating  \n",
       "0         7  548.9715      Ewallet  522.83     9.1  \n",
       "1         5   80.2200         Cash   76.40     9.6  \n",
       "2         7  340.5255  Credit card  324.31     7.4  \n",
       "3         8  489.0480      Ewallet  465.76     8.4  \n",
       "4         7  634.3785      Ewallet  604.17     5.3  "
      ]
     },
     "execution_count": 47,
     "metadata": {},
     "output_type": "execute_result"
    }
   ],
   "source": [
    "df.head()"
   ]
  },
  {
   "cell_type": "code",
   "execution_count": 71,
   "id": "a7e88f03",
   "metadata": {},
   "outputs": [],
   "source": [
    "#extracting categorical features\n",
    "\n",
    "list_1=list(df.columns)"
   ]
  },
  {
   "cell_type": "code",
   "execution_count": 73,
   "id": "025c5bae",
   "metadata": {},
   "outputs": [],
   "source": [
    "list_cate=[]\n",
    "for i in list_1:\n",
    "    if df[i].dtype=='object':\n",
    "        list_cate.append(i)"
   ]
  },
  {
   "cell_type": "code",
   "execution_count": 74,
   "id": "4a7a6433",
   "metadata": {},
   "outputs": [
    {
     "data": {
      "text/plain": [
       "['Branch', 'city code ', 'Customer type', 'Gender', 'Product_line', 'Payment']"
      ]
     },
     "execution_count": 74,
     "metadata": {},
     "output_type": "execute_result"
    }
   ],
   "source": [
    "list_cate"
   ]
  },
  {
   "cell_type": "code",
   "execution_count": 77,
   "id": "ad21fe04",
   "metadata": {},
   "outputs": [],
   "source": [
    "#importing label encoder to change categorical variables to numerical variables\n",
    "\n",
    "from sklearn.preprocessing import LabelEncoder\n",
    "\n",
    "le=LabelEncoder()\n",
    "\n",
    "for i in list_cate:\n",
    "    \n",
    "    df[i]=le.fit_transform(df[i])"
   ]
  },
  {
   "cell_type": "code",
   "execution_count": 84,
   "id": "19a0d61e",
   "metadata": {},
   "outputs": [
    {
     "data": {
      "text/html": [
       "<div>\n",
       "<style scoped>\n",
       "    .dataframe tbody tr th:only-of-type {\n",
       "        vertical-align: middle;\n",
       "    }\n",
       "\n",
       "    .dataframe tbody tr th {\n",
       "        vertical-align: top;\n",
       "    }\n",
       "\n",
       "    .dataframe thead th {\n",
       "        text-align: right;\n",
       "    }\n",
       "</style>\n",
       "<table border=\"1\" class=\"dataframe\">\n",
       "  <thead>\n",
       "    <tr style=\"text-align: right;\">\n",
       "      <th></th>\n",
       "      <th>Branch</th>\n",
       "      <th>city code</th>\n",
       "      <th>Customer type</th>\n",
       "      <th>Gender</th>\n",
       "      <th>Product_line</th>\n",
       "      <th>Unit price</th>\n",
       "      <th>Quantity</th>\n",
       "      <th>Total</th>\n",
       "      <th>Payment</th>\n",
       "      <th>cogs</th>\n",
       "      <th>Rating</th>\n",
       "    </tr>\n",
       "  </thead>\n",
       "  <tbody>\n",
       "    <tr>\n",
       "      <th>0</th>\n",
       "      <td>0</td>\n",
       "      <td>0</td>\n",
       "      <td>0</td>\n",
       "      <td>0</td>\n",
       "      <td>3</td>\n",
       "      <td>75.0</td>\n",
       "      <td>7</td>\n",
       "      <td>549.0</td>\n",
       "      <td>2</td>\n",
       "      <td>523.0</td>\n",
       "      <td>9.0</td>\n",
       "    </tr>\n",
       "    <tr>\n",
       "      <th>1</th>\n",
       "      <td>2</td>\n",
       "      <td>1</td>\n",
       "      <td>1</td>\n",
       "      <td>0</td>\n",
       "      <td>0</td>\n",
       "      <td>15.0</td>\n",
       "      <td>5</td>\n",
       "      <td>80.0</td>\n",
       "      <td>0</td>\n",
       "      <td>76.0</td>\n",
       "      <td>10.0</td>\n",
       "    </tr>\n",
       "    <tr>\n",
       "      <th>2</th>\n",
       "      <td>0</td>\n",
       "      <td>0</td>\n",
       "      <td>1</td>\n",
       "      <td>1</td>\n",
       "      <td>4</td>\n",
       "      <td>46.0</td>\n",
       "      <td>7</td>\n",
       "      <td>341.0</td>\n",
       "      <td>1</td>\n",
       "      <td>324.0</td>\n",
       "      <td>7.0</td>\n",
       "    </tr>\n",
       "    <tr>\n",
       "      <th>3</th>\n",
       "      <td>0</td>\n",
       "      <td>0</td>\n",
       "      <td>0</td>\n",
       "      <td>1</td>\n",
       "      <td>3</td>\n",
       "      <td>58.0</td>\n",
       "      <td>8</td>\n",
       "      <td>489.0</td>\n",
       "      <td>2</td>\n",
       "      <td>466.0</td>\n",
       "      <td>8.0</td>\n",
       "    </tr>\n",
       "    <tr>\n",
       "      <th>4</th>\n",
       "      <td>0</td>\n",
       "      <td>0</td>\n",
       "      <td>1</td>\n",
       "      <td>1</td>\n",
       "      <td>5</td>\n",
       "      <td>86.0</td>\n",
       "      <td>7</td>\n",
       "      <td>634.0</td>\n",
       "      <td>2</td>\n",
       "      <td>604.0</td>\n",
       "      <td>5.0</td>\n",
       "    </tr>\n",
       "  </tbody>\n",
       "</table>\n",
       "</div>"
      ],
      "text/plain": [
       "   Branch  city code   Customer type  Gender  Product_line  Unit price  \\\n",
       "0       0           0              0       0             3        75.0   \n",
       "1       2           1              1       0             0        15.0   \n",
       "2       0           0              1       1             4        46.0   \n",
       "3       0           0              0       1             3        58.0   \n",
       "4       0           0              1       1             5        86.0   \n",
       "\n",
       "   Quantity  Total  Payment   cogs  Rating  \n",
       "0         7  549.0        2  523.0     9.0  \n",
       "1         5   80.0        0   76.0    10.0  \n",
       "2         7  341.0        1  324.0     7.0  \n",
       "3         8  489.0        2  466.0     8.0  \n",
       "4         7  634.0        2  604.0     5.0  "
      ]
     },
     "execution_count": 84,
     "metadata": {},
     "output_type": "execute_result"
    }
   ],
   "source": [
    "df.head()"
   ]
  },
  {
   "cell_type": "markdown",
   "id": "efc214b8",
   "metadata": {},
   "source": [
    "decision tree classifier can't take continous values so we have to make them discrete"
   ]
  },
  {
   "cell_type": "code",
   "execution_count": 85,
   "id": "410537ea",
   "metadata": {},
   "outputs": [],
   "source": [
    "df = df.round(0)"
   ]
  },
  {
   "cell_type": "markdown",
   "id": "f27ff4cd",
   "metadata": {},
   "source": [
    "### Model Training "
   ]
  },
  {
   "cell_type": "code",
   "execution_count": 86,
   "id": "5a317a49",
   "metadata": {},
   "outputs": [],
   "source": [
    "from sklearn.model_selection import train_test_split"
   ]
  },
  {
   "cell_type": "code",
   "execution_count": 87,
   "id": "e16d9eab",
   "metadata": {},
   "outputs": [],
   "source": [
    "#defining dependent and independent variables\n",
    "\n",
    "X = df.drop('Rating', axis = 1)\n",
    "\n",
    "y = df['Rating']"
   ]
  },
  {
   "cell_type": "code",
   "execution_count": 88,
   "id": "045b0586",
   "metadata": {},
   "outputs": [],
   "source": [
    "#we are giving test size as 0.30\n",
    "\n",
    "X_train, X_test, y_train, y_test = train_test_split(X, y, test_size=0.30)"
   ]
  },
  {
   "cell_type": "code",
   "execution_count": 89,
   "id": "9c203ede",
   "metadata": {},
   "outputs": [],
   "source": [
    "#I'm using decision tree classifier for model building\n",
    "\n",
    "from sklearn.tree import DecisionTreeClassifier"
   ]
  },
  {
   "cell_type": "code",
   "execution_count": 90,
   "id": "7654be0e",
   "metadata": {},
   "outputs": [],
   "source": [
    "dtree = DecisionTreeClassifier()"
   ]
  },
  {
   "cell_type": "code",
   "execution_count": 91,
   "id": "d25f741d",
   "metadata": {},
   "outputs": [
    {
     "data": {
      "text/plain": [
       "DecisionTreeClassifier()"
      ]
     },
     "execution_count": 91,
     "metadata": {},
     "output_type": "execute_result"
    }
   ],
   "source": [
    "dtree.fit(X_train,y_train)"
   ]
  },
  {
   "cell_type": "markdown",
   "id": "2abd1a5d",
   "metadata": {},
   "source": [
    "### Predictions "
   ]
  },
  {
   "cell_type": "code",
   "execution_count": 92,
   "id": "0d81ef51",
   "metadata": {},
   "outputs": [],
   "source": [
    "predictions = dtree.predict(X_test)"
   ]
  },
  {
   "cell_type": "code",
   "execution_count": 95,
   "id": "bb313a15",
   "metadata": {},
   "outputs": [
    {
     "name": "stdout",
     "output_type": "stream",
     "text": [
      "Classification Report is:\n",
      "               precision    recall  f1-score   support\n",
      "\n",
      "         4.0       0.15      0.18      0.16        28\n",
      "         5.0       0.16      0.13      0.15        45\n",
      "         6.0       0.13      0.14      0.13        57\n",
      "         7.0       0.15      0.20      0.17        44\n",
      "         8.0       0.24      0.19      0.21        58\n",
      "         9.0       0.05      0.05      0.05        39\n",
      "        10.0       0.09      0.07      0.08        29\n",
      "\n",
      "    accuracy                           0.14       300\n",
      "   macro avg       0.14      0.14      0.14       300\n",
      "weighted avg       0.15      0.14      0.14       300\n",
      "\n",
      "Confusion Matrix:\n",
      " [[ 5  3  7  1  6  4  2]\n",
      " [ 5  6 10  6  8  5  5]\n",
      " [ 9  8  8 15  4  6  7]\n",
      " [ 1  7  9  9  7 10  1]\n",
      " [ 5  5 14 10 11  9  4]\n",
      " [ 4  5  8 13  5  2  2]\n",
      " [ 4  3  6  6  5  3  2]]\n",
      "Training Score:\n",
      " 100.0\n"
     ]
    }
   ],
   "source": [
    "from sklearn.metrics import accuracy_score,classification_report,confusion_matrix\n",
    "\n",
    "print(\"Classification Report is:\\n\",classification_report(y_test,predictions))\n",
    "\n",
    "print(\"Confusion Matrix:\\n\",confusion_matrix(y_test,predictions))\n",
    "\n",
    "print(\"Training Score:\\n\",dtree.score(X_train,y_train)*100)"
   ]
  },
  {
   "cell_type": "code",
   "execution_count": 65,
   "id": "927518f0",
   "metadata": {},
   "outputs": [
    {
     "name": "stdout",
     "output_type": "stream",
     "text": [
      "MAE: 2.1033333333333335\n",
      "MSE: 6.696666666666666\n",
      "RMSE: 2.5877918514955307\n"
     ]
    }
   ],
   "source": [
    "from sklearn import metrics\n",
    "\n",
    "#to check whether our model is accurate or not I'm going to find rmse and mse values\n",
    "\n",
    "print('MAE:', metrics.mean_absolute_error(y_test, predictions))\n",
    "\n",
    "print('MSE:', metrics.mean_squared_error(y_test, predictions))\n",
    "\n",
    "print('RMSE:', np.sqrt(metrics.mean_squared_error(y_test, predictions)))"
   ]
  },
  {
   "cell_type": "markdown",
   "id": "1fc87a7c",
   "metadata": {},
   "source": [
    "RMSE value is low so our model is good."
   ]
  },
  {
   "cell_type": "code",
   "execution_count": 70,
   "id": "3956d756",
   "metadata": {},
   "outputs": [
    {
     "data": {
      "text/plain": [
       "<matplotlib.collections.PathCollection at 0x1ee854d09a0>"
      ]
     },
     "execution_count": 70,
     "metadata": {},
     "output_type": "execute_result"
    },
    {
     "data": {
      "image/png": "[encoded data removed]",
      "text/plain": [
       "<Figure size 432x288 with 1 Axes>"
      ]
     },
     "metadata": {
      "needs_background": "light"
     },
     "output_type": "display_data"
    }
   ],
   "source": [
    "#plotting scatter plot to check the model accuracy\n",
    "\n",
    "plt.scatter(x = 'y_test', y = 'predictions')\n"
   ]
  },
  {
   "cell_type": "markdown",
   "id": "719dd751",
   "metadata": {},
   "source": [
    "From decision tree, we get 100% accuracy. this concludes our analysis and model training for this dataset."
   ]
  },
  {
   "cell_type": "markdown",
   "id": "4218c099",
   "metadata": {},
   "source": [
    "### Results"
   ]
  },
  {
   "cell_type": "markdown",
   "id": "e55ded9e",
   "metadata": {},
   "source": [
    "Based on my above analysis I came to know that:\n",
    "\n",
    "'fashion accessories' and ‘food and beverages’ quantity purchased is low and rating is high. Hence, supply for these products need to be increased.\n",
    "\n",
    "Females spend on 'fashion accessories' the most and for males it is 'Health and beauty'.\n",
    "\n",
    "Sales are highest on Saturdays probably because it is the weekend. Interestingly,Tuesdays are close second.Mondays are the lowest in sales, probably because it is start of the working week.\n",
    "\n",
    "Branch C represents Naypyitaw. So it is the most profitable city, hence the expansion plan should be based on this city.\n",
    "\n",
    "Fashion accessories and food and beverages are the most sold product in Naypyitaw and these products should be focused on for expansion. Home and lifestyle, sports and travel are the less sold products so we have to focus on theses products to increase the sales by giving some discounts.\n",
    "\n",
    "Sales in February are noticebly smaller than other two months."
   ]
  },
  {
   "cell_type": "code",
   "execution_count": null,
   "id": "bbd61b53",
   "metadata": {},
   "outputs": [],
   "source": []
  }
 ],
 "metadata": {
  "kernelspec": {
   "display_name": "Python 3",
   "language": "python",
   "name": "python3"
  },
  "language_info": {
   "codemirror_mode": {
    "name": "ipython",
    "version": 3
   },
   "file_extension": ".py",
   "mimetype": "text/x-python",
   "name": "python",
   "nbconvert_exporter": "python",
   "pygments_lexer": "ipython3",
   "version": "3.8.8"
  }
 },
 "nbformat": 4,
 "nbformat_minor": 5
}
